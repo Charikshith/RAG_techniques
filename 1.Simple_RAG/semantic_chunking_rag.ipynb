{
 "cells": [
  {
   "cell_type": "markdown",
   "metadata": {},
   "source": [
    "# HYBRID SEARCH IN CHROMADB"
   ]
  },
  {
   "cell_type": "code",
   "execution_count": 1,
   "metadata": {},
   "outputs": [
    {
     "data": {
      "text/plain": [
       "True"
      ]
     },
     "execution_count": 1,
     "metadata": {},
     "output_type": "execute_result"
    }
   ],
   "source": [
    "import os\n",
    "import sys\n",
    "from dotenv import load_dotenv\n",
    "\n",
    "\n",
    "# Load environment variables from a .env file\n",
    "load_dotenv('D:/Code/AI/.env')\n",
    "\n"
   ]
  },
  {
   "cell_type": "markdown",
   "metadata": {},
   "source": [
    "#### Approach1"
   ]
  },
  {
   "cell_type": "markdown",
   "metadata": {},
   "source": [
    "2️⃣ Setup ChromaDB and Collection"
   ]
  },
  {
   "cell_type": "code",
   "execution_count": 2,
   "metadata": {},
   "outputs": [
    {
     "name": "stderr",
     "output_type": "stream",
     "text": [
      "d:\\Code\\ENVS\\llmenv\\Lib\\site-packages\\tqdm\\auto.py:21: TqdmWarning: IProgress not found. Please update jupyter and ipywidgets. See https://ipywidgets.readthedocs.io/en/stable/user_install.html\n",
      "  from .autonotebook import tqdm as notebook_tqdm\n"
     ]
    }
   ],
   "source": [
    "import chromadb\n",
    "from sentence_transformers import SentenceTransformer\n",
    "\n",
    "# Initialize ChromaDB client\n",
    "chroma_client = chromadb.PersistentClient(path=\"./chroma_db\")\n",
    "\n",
    "# Load a sentence transformer model for dense embeddings\n",
    "embedding_model = SentenceTransformer(\"all-MiniLM-L6-v2\")\n",
    "\n",
    "# Create a collection with metadata filtering\n",
    "collection = chroma_client.get_or_create_collection(\n",
    "    name=\"hybrid_search\",\n",
    "    metadata={\"hnsw:space\": \"cosine\"}  # Ensures cosine similarity for dense search\n",
    ")\n"
   ]
  },
  {
   "cell_type": "markdown",
   "metadata": {},
   "source": [
    "3️⃣ Add Documents with Metadata"
   ]
  },
  {
   "cell_type": "code",
   "execution_count": 3,
   "metadata": {},
   "outputs": [],
   "source": [
    "docs = [\n",
    "    {\"id\": \"1\", \"text\": \"Machine learning is amazing.\", \"metadata\": {\"category\": \"AI\", \"author\": \"Alice\"}},\n",
    "    {\"id\": \"2\", \"text\": \"The stock market is volatile.\", \"metadata\": {\"category\": \"Finance\", \"author\": \"Bob\"}},\n",
    "    {\"id\": \"3\", \"text\": \"Neural networks are powerful models.\", \"metadata\": {\"category\": \"AI\", \"author\": \"Charlie\"}},\n",
    "]\n",
    "\n",
    "# Convert texts to embeddings\n",
    "embeddings = [embedding_model.encode(doc[\"text\"]).tolist() for doc in docs]\n",
    "\n",
    "# Add data to ChromaDB\n",
    "collection.add(\n",
    "    ids=[doc[\"id\"] for doc in docs],\n",
    "    documents=[doc[\"text\"] for doc in docs],\n",
    "    embeddings=embeddings,\n",
    "    metadatas=[doc[\"metadata\"] for doc in docs]\n",
    ")\n"
   ]
  },
  {
   "cell_type": "markdown",
   "metadata": {},
   "source": [
    "3️⃣ Add Documents with Metadata\n",
    "\n",
    "1. I need a change here I will be using a custom pdf using langchain PyMuPDF.\n",
    "2. Now chunk the data using Langchain Semantic Chunker and chunk the pdf data.\n",
    "    "
   ]
  },
  {
   "cell_type": "markdown",
   "metadata": {},
   "source": [
    "4️⃣ Perform Hybrid Search (Dense + Sparse)"
   ]
  },
  {
   "cell_type": "code",
   "execution_count": 4,
   "metadata": {},
   "outputs": [
    {
     "name": "stderr",
     "output_type": "stream",
     "text": [
      "Number of requested results 5 is greater than number of elements in index 3, updating n_results = 3\n"
     ]
    },
    {
     "name": "stdout",
     "output_type": "stream",
     "text": [
      "{'ids': [['3', '1']], 'embeddings': None, 'documents': [['Neural networks are powerful models.', 'Machine learning is amazing.']], 'uris': None, 'data': None, 'metadatas': [[{'author': 'Charlie', 'category': 'AI'}, {'author': 'Alice', 'category': 'AI'}]], 'distances': [[0.4906539336261596, 0.562261735540617]], 'included': [<IncludeEnum.distances: 'distances'>, <IncludeEnum.documents: 'documents'>, <IncludeEnum.metadatas: 'metadatas'>]}\n"
     ]
    }
   ],
   "source": [
    "query = \"deep learning advancements\"\n",
    "\n",
    "# Convert query to dense embedding\n",
    "query_embedding = embedding_model.encode(query).tolist()\n",
    "\n",
    "# Perform hybrid search with metadata filtering\n",
    "results = collection.query(\n",
    "    query_embeddings=[query_embedding],\n",
    "    query_texts=[query],  # Enables BM25 sparse search\n",
    "    n_results=5,\n",
    "    where={\"category\": \"AI\"}  # Metadata filtering\n",
    ")\n",
    "\n",
    "print(results)\n"
   ]
  },
  {
   "cell_type": "markdown",
   "metadata": {},
   "source": [
    "#### Approach 2"
   ]
  },
  {
   "cell_type": "markdown",
   "metadata": {},
   "source": [
    "2️⃣ Load the PDF and Extract Text\n",
    "\n",
    "\n",
    "Each document contains:\n",
    "\n",
    "page_content (text from the page)\n",
    "metadata (page number, source)\n"
   ]
  },
  {
   "cell_type": "code",
   "execution_count": 2,
   "metadata": {},
   "outputs": [],
   "source": [
    "from langchain.document_loaders import PyMuPDFLoader\n",
    "\n",
    "# Load PDF\n",
    "pdf_path = \"if-hp-cancer-guide-lyhe007-cll.pdf\"  # Change this to your actual PDF file\n",
    "loader = PyMuPDFLoader(pdf_path)\n",
    "\n",
    "# Extract documents\n",
    "documents = loader.load()\n"
   ]
  },
  {
   "cell_type": "markdown",
   "metadata": {},
   "source": [
    "3️⃣ Chunk the Data using LangChain's Semantic Chunker\n",
    "\n",
    "We'll use the SemanticChunker from LangChain to split the text intelligently."
   ]
  },
  {
   "cell_type": "code",
   "execution_count": 3,
   "metadata": {},
   "outputs": [
    {
     "name": "stderr",
     "output_type": "stream",
     "text": [
      "C:\\Users\\Chakri\\AppData\\Local\\Temp\\ipykernel_12932\\1077612044.py:8: LangChainDeprecationWarning: The class `HuggingFaceEmbeddings` was deprecated in LangChain 0.2.2 and will be removed in 1.0. An updated version of the class exists in the :class:`~langchain-huggingface package and should be used instead. To use it run `pip install -U :class:`~langchain-huggingface` and import as `from :class:`~langchain_huggingface import HuggingFaceEmbeddings``.\n",
      "  embedding_model = HuggingFaceEmbeddings(model_name=\"sentence-transformers/all-MiniLM-L6-v2\")\n",
      "d:\\Code\\ENVS\\llmenv\\Lib\\site-packages\\tqdm\\auto.py:21: TqdmWarning: IProgress not found. Please update jupyter and ipywidgets. See https://ipywidgets.readthedocs.io/en/stable/user_install.html\n",
      "  from .autonotebook import tqdm as notebook_tqdm\n"
     ]
    }
   ],
   "source": [
    "from langchain_experimental.text_splitter import SemanticChunker\n",
    "# from sentence_transformers import SentenceTransformer\n",
    "\n",
    "from langchain.embeddings import HuggingFaceEmbeddings\n",
    "# from langchain.text_splitter import SemanticChunker\n",
    "\n",
    "# Use HuggingFaceEmbeddings (which has embed_documents)\n",
    "embedding_model = HuggingFaceEmbeddings(model_name=\"sentence-transformers/all-MiniLM-L6-v2\")\n",
    "\n",
    "# Initialize Semantic Chunker\n",
    "text_splitter = SemanticChunker(embedding_model, breakpoint_threshold_type=\"percentile\")\n",
    "\n",
    "# Extract text from Document objects\n",
    "document_texts = [doc.page_content for doc in documents]  # Extract plain text\n",
    "\n",
    "\n",
    "# Chunk the extracted text\n",
    "# chunks = text_splitter.create_documents(document_texts)\n",
    "# Step 3: Chunk the text while keeping metadata\n",
    "chunks = text_splitter.create_documents([doc.page_content for doc in documents], metadatas=[doc.metadata for doc in documents])\n",
    "\n"
   ]
  },
  {
   "cell_type": "markdown",
   "metadata": {},
   "source": [
    "4️⃣ Store Chunks in ChromaDB\n",
    "We'll store:\n",
    "\n",
    "1. Chunked text\n",
    "\n",
    "2. Embeddings\n",
    "\n",
    "3. Metadata (page number, source, etc.)"
   ]
  },
  {
   "cell_type": "code",
   "execution_count": 4,
   "metadata": {},
   "outputs": [],
   "source": [
    "import chromadb\n",
    "\n",
    "# Initialize ChromaDB\n",
    "chroma_client = chromadb.PersistentClient(path=\"./chroma_db\")\n",
    "collection = chroma_client.get_or_create_collection(name=\"pdf_search\",metadata={\"hnsw:space\": \"cosine\"})\n",
    "\n",
    "# Step 5: Prepare data for ChromaDB\n",
    "chunk_texts = [chunk.page_content for chunk in chunks]\n",
    "chunk_embeddings = embedding_model.embed_documents(chunk_texts)\n",
    "chunk_metadatas = [chunk.metadata if chunk.metadata else {\"source\": \"unknown\"} for chunk in chunks]  # Ensure non-empty metadata\n",
    "\n",
    "# Step 6: Store in ChromaDB\n",
    "collection.add(\n",
    "    ids=[str(i) for i in range(len(chunk_texts))],\n",
    "    documents=chunk_texts,\n",
    "    embeddings=chunk_embeddings,\n",
    "    metadatas=chunk_metadatas  # Ensures non-empty metadata\n",
    ")"
   ]
  },
  {
   "cell_type": "markdown",
   "metadata": {},
   "source": [
    "🔹 Step 7: Retrieve Documents with Relevance Score"
   ]
  },
  {
   "cell_type": "code",
   "execution_count": 7,
   "metadata": {},
   "outputs": [
    {
     "name": "stdout",
     "output_type": "stream",
     "text": [
      "🔹 Result 1:\n",
      "Content: No overall survival (OS) difference has \n",
      "yet been reported in this study. The ECOG 1912 study compared ibrutinib + rituximab to chemoimmunotherapy with fludarabine, \n",
      "cyclophosphamide and rituximab (FCR) in a young and fit CLL population.30  The results of the ECOG \n",
      "1912 study are very important because in contradiction to the other frontline studies of BTKi versus \n",
      "chemo-immunotherapy, this study observed both a PFS and an OS advantage of ibrutinib + R \n",
      "compared to FCR. The hazard ratio for PFS was 0.352 (95% CI 0.223-0.558; p<0.0001) and 0.168 \n",
      "(95% CI 0.053-0.538; p=0.0003, pre-specified boundary for superiority p=0.0005) for OS, both \n",
      "favoured IR. No significant different was demonstrated in PFS in the subgroup of patients with \n",
      "mutated IgHV. The open-label, phase 3, FLAIR trial, randomized previously untreated CLL patients \n",
      "(N=771) to receive ibrutinib and rituximab or FCR (1:1). After a median 53 months of follow-up, \n",
      "median progression free survival was not reached in the ibrutinib +R arm, compared to 67 months in \n",
      "the FCR arm (HR: 0.44; 95%CI: 0.32-0.60; p<0.001). Serious adverse events were reported in 53% \n",
      "of ibrutinib +R patients compared to 54% or the FCR patients.31 Given data suggesting the possibility \n",
      "of very lengthy remissions and even potential cure with FCR in patients with mutated IGHV, we would \n",
      "continue to favour FCR in these patients44. Ibrutinib toxicities were much less marked in these \n",
      "younger patients with only 1% of patients dying from an unexplained event (likely sudden cardiac \n",
      "death).\n",
      "Metadata: {'author': 'Alberta Health Services', 'creationDate': \"D:20250108110343-07'00'\", 'creationdate': '2025-01-08T11:03:43-07:00', 'creator': 'Acrobat PDFMaker 24 for Word', 'file_path': 'if-hp-cancer-guide-lyhe007-cll.pdf', 'format': 'PDF 1.6', 'keywords': 'CLL, diagnosis, staging, treatment, follow-up, chemotherapy, radiotherapy, immunotherapy', 'modDate': \"D:20250108111524-07'00'\", 'moddate': '2025-01-08T11:15:24-07:00', 'page': 10, 'producer': 'Adobe PDF Library 24.5.96', 'source': 'if-hp-cancer-guide-lyhe007-cll.pdf', 'subject': 'Clinical Practice Guideline', 'title': 'Chronic Lymphocytic Leukemia', 'total_pages': 27, 'trapped': ''}\n",
      "Relevance Score: 0.1280==0.8720\n",
      "--------------------------------------------------\n",
      "🔹 Result 2:\n",
      "Content: 2014:Abstract 1994. 53.\n",
      "Metadata: {'author': 'Alberta Health Services', 'creationDate': \"D:20250108110343-07'00'\", 'creationdate': '2025-01-08T11:03:43-07:00', 'creator': 'Acrobat PDFMaker 24 for Word', 'file_path': 'if-hp-cancer-guide-lyhe007-cll.pdf', 'format': 'PDF 1.6', 'keywords': 'CLL, diagnosis, staging, treatment, follow-up, chemotherapy, radiotherapy, immunotherapy', 'modDate': \"D:20250108111524-07'00'\", 'moddate': '2025-01-08T11:15:24-07:00', 'page': 24, 'producer': 'Adobe PDF Library 24.5.96', 'source': 'if-hp-cancer-guide-lyhe007-cll.pdf', 'subject': 'Clinical Practice Guideline', 'title': 'Chronic Lymphocytic Leukemia', 'total_pages': 27, 'trapped': ''}\n",
      "Relevance Score: 0.1238==0.8762\n",
      "--------------------------------------------------\n",
      "🔹 Result 3:\n",
      "Content: 75.\n",
      "Metadata: {'author': 'Alberta Health Services', 'creationDate': \"D:20250108110343-07'00'\", 'creationdate': '2025-01-08T11:03:43-07:00', 'creator': 'Acrobat PDFMaker 24 for Word', 'file_path': 'if-hp-cancer-guide-lyhe007-cll.pdf', 'format': 'PDF 1.6', 'keywords': 'CLL, diagnosis, staging, treatment, follow-up, chemotherapy, radiotherapy, immunotherapy', 'modDate': \"D:20250108111524-07'00'\", 'moddate': '2025-01-08T11:15:24-07:00', 'page': 25, 'producer': 'Adobe PDF Library 24.5.96', 'source': 'if-hp-cancer-guide-lyhe007-cll.pdf', 'subject': 'Clinical Practice Guideline', 'title': 'Chronic Lymphocytic Leukemia', 'total_pages': 27, 'trapped': ''}\n",
      "Relevance Score: 0.1138==0.8862\n",
      "--------------------------------------------------\n",
      "🔹 Result 4:\n",
      "Content: 10\n",
      "Guideline Resource Unit \n",
      "Last revision: December 2024 \n",
      "IV. Treatment\n",
      "First Line Treatment Options for CLL: \n",
      "The ultimate treatment goal in CLL is to achieve a long overall survival, while minimizing toxicities and \n",
      "improving quality of life. In the absence of a survival benefit, achieving a long PFS is a reasonable \n",
      "goal of therapy. Consideration of the patient’s preference is always important in the determination of \n",
      "any treatment decision. Fludarabine-cyclophosphamide-rituximab (FCR) \n",
      "The phase III GCLLSG CLL8 trial compared the primary endpoint of PFS after treatment with FCR or \n",
      "FC in younger fit CLL patients.23 Study participants included 817 patients selected for minimal co-\n",
      "morbidity (CIRS <6). Median PFS was reported as 32.8 months in the FC arm and 51.8 months in the \n",
      "FCR arm (HR 0.56; p <0.0001). Statistically significant differences were observed in OS rates \n",
      "between the two treatment arms (87.2% in the FCR arm versus 82.5% in the FC arm at 37.7 months, \n",
      "p = 0.012).\n",
      "Metadata: {'author': 'Alberta Health Services', 'creationDate': \"D:20250108110343-07'00'\", 'creationdate': '2025-01-08T11:03:43-07:00', 'creator': 'Acrobat PDFMaker 24 for Word', 'file_path': 'if-hp-cancer-guide-lyhe007-cll.pdf', 'format': 'PDF 1.6', 'keywords': 'CLL, diagnosis, staging, treatment, follow-up, chemotherapy, radiotherapy, immunotherapy', 'modDate': \"D:20250108111524-07'00'\", 'moddate': '2025-01-08T11:15:24-07:00', 'page': 9, 'producer': 'Adobe PDF Library 24.5.96', 'source': 'if-hp-cancer-guide-lyhe007-cll.pdf', 'subject': 'Clinical Practice Guideline', 'title': 'Chronic Lymphocytic Leukemia', 'total_pages': 27, 'trapped': ''}\n",
      "Relevance Score: 0.0929==0.9071\n",
      "--------------------------------------------------\n",
      "🔹 Result 5:\n",
      "Content: 27  \n",
      " \n",
      "Guideline Resource Unit \n",
      "Last revision: December 2024 \n",
      "Development and Revision History \n",
      "This guideline was developed by a multidisciplinary working \n",
      "group comprised of members from the Alberta Provincial \n",
      "Hematology Tumour Team, external participants identified by \n",
      "the Working Group Lead, and a methodologist from the \n",
      "Guideline Resource Unit. The draft guideline was externally \n",
      "reviewed and endorsed by members of the Alberta Provincial \n",
      "Hematology Tumour Team who were not involved in the \n",
      "guideline’s development, including surgical oncologists, \n",
      "radiation oncologists, medical oncologists, hematologists, \n",
      "nurses, pathologists, and pharmacists. A detailed description of \n",
      "the methodology followed during the guideline development \n",
      "process can be found in the Guideline Resource Unit \n",
      "Handbook. This guideline was originally developed in 2010. Maintenance \n",
      "A formal review of the guideline will be conducted in 2025.\n",
      "Metadata: {'author': 'Alberta Health Services', 'creationDate': \"D:20250108110343-07'00'\", 'creationdate': '2025-01-08T11:03:43-07:00', 'creator': 'Acrobat PDFMaker 24 for Word', 'file_path': 'if-hp-cancer-guide-lyhe007-cll.pdf', 'format': 'PDF 1.6', 'keywords': 'CLL, diagnosis, staging, treatment, follow-up, chemotherapy, radiotherapy, immunotherapy', 'modDate': \"D:20250108111524-07'00'\", 'moddate': '2025-01-08T11:15:24-07:00', 'page': 26, 'producer': 'Adobe PDF Library 24.5.96', 'source': 'if-hp-cancer-guide-lyhe007-cll.pdf', 'subject': 'Clinical Practice Guideline', 'title': 'Chronic Lymphocytic Leukemia', 'total_pages': 27, 'trapped': ''}\n",
      "Relevance Score: 0.0868==0.9132\n",
      "--------------------------------------------------\n"
     ]
    }
   ],
   "source": [
    "from langchain.vectorstores import Chroma\n",
    "from langchain.schema import Document\n",
    "\n",
    "# Step 1: Load ChromaDB collection\n",
    "chroma_client = chromadb.PersistentClient(path=\"./chroma_db\")\n",
    "collection = chroma_client.get_or_create_collection(name=\"pdf_search\",metadata={\"hnsw:space\": \"cosine\"})\n",
    "\n",
    "# Step 2: Wrap Chroma in LangChain's Retriever\n",
    "vectorstore = Chroma(\n",
    "    client=chroma_client,\n",
    "    collection_name=\"pdf_search\",\n",
    "    embedding_function=embedding_model,\n",
    "    \n",
    ")\n",
    "\n",
    "retriever = vectorstore.as_retriever(search_type=\"mmr\", search_kwargs={\"k\": 5})\n",
    "\n",
    "# Step 3: User Query\n",
    "user_query = \"Explain the Target Population\"  # Replace with user input\n",
    "\n",
    "# Step 4: Perform Hybrid Search with Relevance Score & Metadata Filtering\n",
    "search_results = collection.query(\n",
    "    query_texts=[user_query],\n",
    "    n_results=5,  # Retrieve top 5 relevant results\n",
    "    where={\"source\": {\"$eq\": \"if-hp-cancer-guide-lyhe007-cll.pdf\"}},  # Metadata filtering\n",
    "    include=[\"documents\", \"metadatas\", \"distances\"]  # Include relevance scores\n",
    ")\n",
    "\n",
    "# Step 5: Display Results with Relevance Scores\n",
    "for i, (doc, metadata, score) in enumerate(zip(search_results[\"documents\"][0], \n",
    "                                                search_results[\"metadatas\"][0], \n",
    "                                                search_results[\"distances\"][0])):\n",
    "    print(f\"🔹 Result {i+1}:\")\n",
    "    print(f\"Content: {doc}\")\n",
    "    print(f\"Metadata: {metadata}\")\n",
    "    print(f\"Relevance Score: {1 - score:.4f}=={score:.4f}\")  # Convert distance to similarity score\n",
    "    print(\"-\" * 50)\n"
   ]
  },
  {
   "cell_type": "markdown",
   "metadata": {},
   "source": [
    "✅ Delete a Specific Collection"
   ]
  },
  {
   "cell_type": "code",
   "execution_count": null,
   "metadata": {},
   "outputs": [],
   "source": [
    "import chromadb\n",
    "\n",
    "# Initialize the ChromaDB client\n",
    "chroma_client = chromadb.PersistentClient(path=\"./chroma_db\")\n",
    "\n",
    "# Delete the collection\n",
    "chroma_client.delete_collection(name=\"pdf_search\")\n",
    "\n",
    "print(\"✅ Collection deleted successfully!\")"
   ]
  },
  {
   "cell_type": "markdown",
   "metadata": {},
   "source": [
    "✅ Step 8: Pass Retrieved Chunks & Query to LLM for Generation </br>\n",
    "Now that we've retrieved the most relevant chunks using Hybrid Search, let's pass them along </br>with the user query to an LLM for generating an answer.</br>\n",
    "\n",
    "🔹 How This Works</br>\n",
    "Retrieve Relevant Chunks → (From ChromaDB, Step 7)</br>\n",
    "Format Context → (Concatenate chunks into a structured prompt)</br>\n",
    "Send to LLM → (Use an LLM like OpenAI’s GPT, Mistral, or Llama3) </br>\n",
    "Generate Response → (LLM provides an answer based on context) </br>"
   ]
  },
  {
   "cell_type": "code",
   "execution_count": 9,
   "metadata": {},
   "outputs": [
    {
     "name": "stdout",
     "output_type": "stream",
     "text": [
      "🔹 LLM Response:\n",
      "<think>\n",
      "Okay, so I need to explain the target population based on the provided context. Let me read through the context carefully to understand who is being studied or treated in these trials and guidelines.\n",
      "\n",
      "First, I notice that there are mentions of studies like ECOG 1912 and FLAIR trial. The ECOG study compared ibrutinib plus rituximab (IR) with FCR (fludarabine, cyclophosphamide, and rituximab). It's noted that this was done in a \"young and fit\" CLL population. So, the target here seems to be younger, healthier individuals with Chronic Lymphocytic Leukemia.\n",
      "\n",
      "Looking further, the FLAIR trial also randomized previously untreated CLL patients, specifically N=771, comparing IR versus FCR. The median follow-up was about 53 months. So again, this is a group of CLL patients who are treatment-naive and presumably fit enough to be part of a phase 3 trial.\n",
      "\n",
      "In the guideline section, it mentions that FCR is compared with FC in younger fit CLL patients as well, from the GCLLSG CLL8 trial. The participants had minimal co-morbidity (CIRS <6), which indicates they are relatively healthy and not burdened by other serious conditions.\n",
      "\n",
      "So putting this together, the target population across these studies seems to be:\n",
      "\n",
      "1. **Chronic Lymphocytic Leukemia (CLL) Patients**: Specifically those who are treatment-naive or in need of first-line therapy.\n",
      "2. **Younger Adults**: The term \"younger fit\" is used, so age is a factor here, likely under 65 or so, but the exact cutoff isn't specified.\n",
      "3. **Fit and Healthy**: Minimal co-morbidity as indicated by CIRS score, meaning they can tolerate more intensive treatments without significant risk of complications.\n",
      "\n",
      "Additionally, there's a note about patients with mutated IgHV being a subgroup where FCR might be favored despite other studies showing IR's superiority. This suggests that within the target population, there are further subgroups based on genetic factors like immunoglobulin heavy variable (IGHV) mutation status.\n",
      "\n",
      "So the target population is CLL patients who are young and fit enough to undergo potentially intensive treatments, with an emphasis on their overall health and suitability for various regimens like FCR or IR-based therapies.\n",
      "</think>\n",
      "\n",
      "The target population in the studies discussed primarily focuses on young, fit individuals diagnosed with Chronic Lymphocytic Leukemia (CLL) who require first-line treatment. This group is characterized by:\n",
      "\n",
      "1. **Age**: Young adults, typically under 65 years old, though the exact age cutoff isn't specified.\n",
      "2. **Health Status**: Patients are described as \"fit\" and have minimal co-morbidity, indicated by a CIRS score less than 6. This ensures they can tolerate intensive treatments without significant risks.\n",
      "3. **Genetic Subgroups**: Within this population, there is an emphasis on subgroups based on genetic factors, particularly those with mutated IGHV, where treatment preferences might differ.\n",
      "\n",
      "These studies evaluate various treatment regimens like FCR (fludarabine, cyclophosphamide, and rituximab) and IR (ibrutinib plus rituximab), aiming to optimize both efficacy and quality of life in these relatively healthy CLL patients.\n"
     ]
    }
   ],
   "source": [
    "#🔹 Step 8: Generate Response with LLM\n",
    "from langchain_ollama import ChatOllama\n",
    "from langchain.schema import Document\n",
    "\n",
    "# Step 1: Load OpenAI LLM\n",
    "llm = ChatOllama(model=\"deepseek-r1:14b\", temperature=0.7)\n",
    "\n",
    "# Step 2: Format Retrieved Chunks as Context\n",
    "retrieved_context = \"\\n\\n\".join([doc for doc in search_results[\"documents\"][0]])\n",
    "\n",
    "# Step 3: Construct Prompt for LLM\n",
    "formatted_prompt = f\"\"\"\n",
    "You are an AI assistant with access to relevant documents.\n",
    "\n",
    "### Context:\n",
    "{retrieved_context}\n",
    "\n",
    "### User Query:\n",
    "{user_query}\n",
    "\n",
    "Based on the given context, provide a detailed and accurate response.\n",
    "\"\"\"\n",
    "\n",
    "# Step 4: Generate Answer using LLM\n",
    "response = llm.invoke(formatted_prompt)\n",
    "\n",
    "# Step 5: Display Output\n",
    "print(\"🔹 LLM Response:\")\n",
    "print(response.content)\n",
    "\n"
   ]
  },
  {
   "cell_type": "code",
   "execution_count": null,
   "metadata": {},
   "outputs": [],
   "source": []
  }
 ],
 "metadata": {
  "kernelspec": {
   "display_name": "llmenv",
   "language": "python",
   "name": "python3"
  },
  "language_info": {
   "codemirror_mode": {
    "name": "ipython",
    "version": 3
   },
   "file_extension": ".py",
   "mimetype": "text/x-python",
   "name": "python",
   "nbconvert_exporter": "python",
   "pygments_lexer": "ipython3",
   "version": "3.12.8"
  }
 },
 "nbformat": 4,
 "nbformat_minor": 2
}
