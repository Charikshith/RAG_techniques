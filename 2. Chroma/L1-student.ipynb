{
 "cells": [
  {
   "cell_type": "markdown",
   "id": "ec889d86-0d16-477f-8b7f-be03d73ad957",
   "metadata": {},
   "source": [
    "# Lab 1 - Overview of embeddings-based retrieval"
   ]
  },
  {
   "cell_type": "markdown",
   "id": "58ee2f53-d88b-4f00-94a2-75a66d4149e9",
   "metadata": {},
   "source": [
    "Welcome! Here's a few notes about the Chroma course notebooks.\n",
    " - A number of warnings pop up when running the notebooks. These are normal and can be ignored.\n",
    " - Some operations such as calling an LLM or an opeation using generated data return unpredictable results and so your notebook outputs may differ from the video.\n",
    "  \n",
    "Enjoy the course!"
   ]
  },
  {
   "cell_type": "code",
   "execution_count": 1,
   "id": "5a5536f0-651c-40e7-aa15-27ee0cda80b7",
   "metadata": {
    "height": 30
   },
   "outputs": [],
   "source": [
    "from helper_utils import word_wrap"
   ]
  },
  {
   "cell_type": "code",
   "execution_count": 4,
   "id": "3748b16d-d4a7-49c3-a48a-57dcfc42acd6",
   "metadata": {
    "height": 166
   },
   "outputs": [
    {
     "name": "stdout",
     "output_type": "stream",
     "text": [
      "1 \n",
      "Dear shareholders, colleagues, customers, and partners:  \n",
      "We are\n",
      "living through a period of historic economic, societal, and\n",
      "geopolitical change. The world in 2022 looks nothing like \n",
      "the world in\n",
      "2019. As I write this, inflation is at a 40-year high, supply chains\n",
      "are stretched, and the war in Ukraine is \n",
      "ongoing. At the same time, we\n",
      "are entering a technological era with the potential to power awesome\n",
      "advancements \n",
      "across every sector of our economy and society. As the\n",
      "world’s largest software company, this places us at a historic\n",
      "\n",
      "intersection of opportunity and responsibility to the world around us.\n",
      " \n",
      "Our mission to empower every person and every organization on the\n",
      "planet to achieve more has never been more \n",
      "urgent or more necessary.\n",
      "For all the uncertainty in the world, one thing is clear: People and\n",
      "organizations in every \n",
      "industry are increasingly looking to digital\n",
      "technology to overcome today’s challenges and emerge stronger. And no\n",
      "\n",
      "company is better positioned to help them than Microsoft.  \n",
      "Every day\n",
      "this past fiscal year I have had the privilege to witness our customers\n",
      "use our platforms and tools to connect \n",
      "what technology can do with\n",
      "what the world needs it to do.  \n",
      "Here are just a few examples:  \n",
      "•\n",
      "\n",
      "Ferrovial, which builds and manages some of the world’s busiest\n",
      "airports and highways, is using our cloud \n",
      "infrastructure to build\n",
      "safer roads as it prepares for a future of autonomous transportation. \n",
      "\n",
      "• \n",
      "Peace Parks Foundation, a nonprofit helping protect natural\n",
      "ecosystems in Southern Africa, is using Microsoft \n",
      "Dynamics 365 and\n",
      "Power BI to secure essential funding, as well as our Azure AI and IoT\n",
      "solutions to help \n",
      "rangers scale their park maintenance and wildlife\n",
      "crime prevention work.  \n",
      "• \n",
      "One of the world’s largest robotics\n",
      "companies, Kawasaki Heavy Industries, is using the breadth of our\n",
      "tools—\n",
      "from Azure IoT and HoloLens—to create an industrial metaverse\n",
      "solution that brings its distributed workforce \n",
      "together with its\n",
      "network of connected equipment to improve productivity and keep\n",
      "employees safe.  \n",
      "• \n",
      "Globo, the biggest media and TV company in Brazil,\n",
      "is using Power Platform to empower its employees to \n",
      "build their own\n",
      "solutions for everything from booking sets to setting schedules.  \n",
      "•\n",
      "\n",
      "And Ørsted, which produces a quarter of the world’s wind energy, is\n",
      "using the Microsoft Intelligent Data \n",
      "Platform to turn data from its\n",
      "offshore turbines into insights for predictive maintenance.  \n",
      "Amid this\n",
      "dynamic environment, we delivered record results in fiscal year 2022:\n",
      "We reported $198 billion in revenue and \n",
      "$83 billion in operating\n",
      "income. And the Microsoft Cloud surpassed $100 billion in annualized\n",
      "revenue for the first time.  \n",
      "OUR RESPONSIBILITY  \n",
      "As a corporation,\n",
      "our purpose and actions must be aligned with addressing the world’s\n",
      "problems, not creating new ones. \n",
      "At our very core, we need to deliver\n",
      "innovation that helps drive broad economic growth. We, as a company,\n",
      "will do well \n",
      "when the world around us does well.  \n",
      "That’s what I\n",
      "believe will lead to widespread human progress and ultimately improve\n",
      "the lives of everyone. There is no \n",
      "more powerful input than digital\n",
      "technology to drive the world’s economic output. This is the core\n",
      "thesis for our being as a \n",
      "company, but it’s not enough. As we drive\n",
      "global economic growth, we must also commit to creating a more\n",
      "inclusive, \n",
      "equitable, sustainable, and trusted future.  \n",
      "Support\n",
      "inclusive economic growth  \n",
      "We must ensure the growth we drive reaches\n",
      "every person, organization, community, and country. This starts with\n",
      "\n",
      "increasing access to digital skills. This year alone, more than 23\n",
      "million people accessed digital skills training as part of \n",
      "our global\n",
      "skills initiative.\n"
     ]
    }
   ],
   "source": [
    "from langchain_community.document_loaders import PyMuPDFLoader\n",
    "\n",
    "loader = PyMuPDFLoader(\"microsoft_annual_report_2022.pdf\")\n",
    "\n",
    "page = []\n",
    "for doc in loader.lazy_load():\n",
    "    page.append(doc)\n",
    "pdf_texts = [p.page_content.strip() for p in page]\n",
    "\n",
    "# Filter the empty strings\n",
    "pdf_texts = [text for text in pdf_texts if text]\n",
    "\n",
    "print(word_wrap(pdf_texts[0]))"
   ]
  },
  {
   "cell_type": "markdown",
   "id": "bbd608a5-b6c9-4ae9-a871-a3e470a4d12a",
   "metadata": {},
   "source": [
    "You can view the pdf in your browser [here](./microsoft_annual_report_2022.pdf) if you would like. "
   ]
  },
  {
   "cell_type": "code",
   "execution_count": 5,
   "id": "a338ec83-6301-41a5-9ab1-e5d583306a3f",
   "metadata": {
    "height": 62
   },
   "outputs": [],
   "source": [
    "from langchain.text_splitter import RecursiveCharacterTextSplitter, SentenceTransformersTokenTextSplitter\n"
   ]
  },
  {
   "cell_type": "code",
   "execution_count": 6,
   "id": "888a86f8-2fe2-4682-bdaf-c15129ed1a32",
   "metadata": {
    "height": 166
   },
   "outputs": [
    {
     "name": "stdout",
     "output_type": "stream",
     "text": [
      "increased, due in large part to significant global datacenter\n",
      "expansions and the growth in Xbox sales and usage. Despite \n",
      "these\n",
      "increases, we remain dedicated to achieving a net-zero future. We\n",
      "recognize that progress won’t always be linear, \n",
      "and the rate at which\n",
      "we can implement emissions reductions is dependent on many factors that\n",
      "can fluctuate over time.  \n",
      "On the path to becoming water positive, we\n",
      "invested in 21 water replenishment projects that are expected to\n",
      "generate \n",
      "over 1.3 million cubic meters of volumetric benefits in nine\n",
      "water basins around the world. Progress toward our zero waste\n",
      "\n",
      "commitment included diverting more than 15,200 metric tons of solid\n",
      "waste otherwise headed to landfills and incinerators, \n",
      "as well as\n",
      "launching new Circular Centers to increase reuse and reduce e-waste at\n",
      "our datacenters.  \n",
      "We contracted to protect over 17,000 acres of land\n",
      "(50% more than the land we use to operate), thus achieving our\n",
      "\n",
      "commitment to protect more land than we use by 2025.\n",
      "\n",
      "Total chunks: 347\n"
     ]
    }
   ],
   "source": [
    "character_splitter = RecursiveCharacterTextSplitter(\n",
    "    separators=[\"\\n\\n\", \"\\n\", \". \", \" \", \"\"],\n",
    "    chunk_size=1000,\n",
    "    chunk_overlap=0\n",
    ")\n",
    "character_split_texts = character_splitter.split_text('\\n\\n'.join(pdf_texts))\n",
    "\n",
    "print(word_wrap(character_split_texts[10]))\n",
    "print(f\"\\nTotal chunks: {len(character_split_texts)}\")"
   ]
  },
  {
   "cell_type": "code",
   "execution_count": 8,
   "id": "0474dabd",
   "metadata": {},
   "outputs": [
    {
     "data": {
      "text/plain": [
       "True"
      ]
     },
     "execution_count": 8,
     "metadata": {},
     "output_type": "execute_result"
    }
   ],
   "source": [
    "from dotenv import load_dotenv\n",
    "\n",
    "\n",
    "# Load environment variables from a .env file\n",
    "load_dotenv('D:/Code/AI/.env')"
   ]
  },
  {
   "cell_type": "code",
   "execution_count": 9,
   "id": "5665c695-22ea-4264-b1ac-5ba720b6d78b",
   "metadata": {
    "height": 149
   },
   "outputs": [
    {
     "name": "stdout",
     "output_type": "stream",
     "text": [
      "increased, due in large part to significant global datacenter\n",
      "expansions and the growth in xbox sales and usage. despite these\n",
      "increases, we remain dedicated to achieving a net - zero future. we\n",
      "recognize that progress won ’ t always be linear, and the rate at which\n",
      "we can implement emissions reductions is dependent on many factors that\n",
      "can fluctuate over time. on the path to becoming water positive, we\n",
      "invested in 21 water replenishment projects that are expected to\n",
      "generate over 1. 3 million cubic meters of volumetric benefits in nine\n",
      "water basins around the world. progress toward our zero waste\n",
      "commitment included diverting more than 15, 200 metric tons of solid\n",
      "waste otherwise headed to landfills and incinerators, as well as\n",
      "launching new circular centers to increase reuse and reduce e - waste\n",
      "at our datacenters. we contracted to protect over 17, 000 acres of land\n",
      "( 50 % more than the land we use to operate ), thus achieving our\n",
      "commitment to protect more land than we use by 2025.\n",
      "\n",
      "Total chunks: 350\n"
     ]
    }
   ],
   "source": [
    "token_splitter = SentenceTransformersTokenTextSplitter(chunk_overlap=0, tokens_per_chunk=256)\n",
    "\n",
    "token_split_texts = []\n",
    "for text in character_split_texts:\n",
    "    token_split_texts += token_splitter.split_text(text)\n",
    "\n",
    "print(word_wrap(token_split_texts[10]))\n",
    "print(f\"\\nTotal chunks: {len(token_split_texts)}\")"
   ]
  },
  {
   "cell_type": "code",
   "execution_count": 10,
   "id": "c2a13d14-4484-46f0-8e67-277337f9d138",
   "metadata": {
    "height": 98
   },
   "outputs": [
    {
     "name": "stdout",
     "output_type": "stream",
     "text": [
      "[array([ 3.03590577e-02,  3.52204740e-02,  3.92408445e-02, -3.01640034e-02,\n",
      "        7.97547996e-02, -7.84079507e-02, -1.38946045e-02, -8.48164316e-03,\n",
      "       -2.07725763e-02,  6.80732578e-02, -5.64192198e-02, -4.59825583e-02,\n",
      "        5.00935838e-02,  9.19960514e-02, -7.14867115e-02,  3.69151086e-02,\n",
      "       -1.84578374e-02, -2.67377887e-02, -5.68575934e-02, -2.27062199e-02,\n",
      "        2.86354925e-02,  2.97920797e-02,  2.42879894e-02,  3.63898370e-03,\n",
      "       -4.56295311e-02, -2.71636294e-03, -1.74999703e-02,  6.07888214e-03,\n",
      "       -2.95465235e-02, -1.85396615e-02,  3.44004966e-02,  3.31753045e-02,\n",
      "        2.48985682e-02, -6.46156296e-02,  4.08608690e-02,  8.27629715e-02,\n",
      "       -4.36127633e-02, -1.33252814e-02, -2.08016317e-02, -3.75730395e-02,\n",
      "       -1.02720242e-02, -9.09821987e-02,  5.88043407e-03,  4.22263471e-03,\n",
      "       -2.44594719e-02, -2.46812105e-02, -3.94150848e-03, -3.84571031e-02,\n",
      "       -6.99249282e-03, -3.44783589e-02,  1.54419854e-01, -4.97603379e-02,\n",
      "       -4.70792875e-02, -1.59799401e-02, -4.81628403e-02, -7.63634443e-02,\n",
      "        1.65337697e-02, -3.03033460e-02, -4.43584993e-02, -1.93395596e-02,\n",
      "        5.29966950e-02, -7.61758909e-02, -3.81571357e-04, -5.53241074e-02,\n",
      "        8.58033672e-02,  2.44302750e-02, -3.67723592e-02,  3.34838033e-02,\n",
      "       -9.73452777e-02,  4.25358675e-02, -5.51893711e-02,  7.54447700e-03,\n",
      "       -1.82203986e-02, -5.67736849e-02, -3.73405591e-02,  6.63283095e-03,\n",
      "        1.67071670e-02,  7.44571090e-02,  7.30916113e-02,  4.71313531e-03,\n",
      "        2.74390336e-02, -1.21924365e-02,  1.78772975e-02,  1.09726712e-02,\n",
      "       -6.45737574e-02,  3.20785530e-02,  2.05896492e-03,  1.95939690e-02,\n",
      "        5.13475761e-02, -5.98156378e-02, -9.42039862e-02, -9.73589811e-03,\n",
      "        1.40756041e-01,  5.30104106e-03, -8.12861845e-02,  6.05131015e-02,\n",
      "       -6.27893880e-02, -6.97855726e-02, -3.11529171e-02, -3.04924659e-02,\n",
      "        8.78901593e-03,  9.52651426e-02,  6.30258918e-02, -8.68218467e-02,\n",
      "        4.34606522e-02, -4.86993305e-02,  1.22881504e-02,  1.02926224e-01,\n",
      "        2.64515951e-02, -2.16876511e-02, -3.55972573e-02, -3.01377028e-02,\n",
      "       -9.27779265e-03,  4.13054526e-02, -1.37467738e-02,  5.24774790e-02,\n",
      "       -3.83023955e-02, -2.31056251e-02,  8.28563701e-03, -1.05483960e-02,\n",
      "        2.29721013e-02,  9.32265539e-03, -4.54344116e-02, -1.45350480e-02,\n",
      "        4.64510955e-02,  5.74483424e-02,  1.50855463e-02,  3.38542557e-33,\n",
      "       -3.15783732e-02,  1.19893067e-02,  9.44323093e-02,  6.14435971e-03,\n",
      "       -1.95298083e-02, -8.07616860e-02,  7.60465208e-03,  8.75146315e-03,\n",
      "        2.71249525e-02, -3.47255133e-02,  2.11767270e-03,  2.12863423e-02,\n",
      "       -2.37162020e-02,  7.93816000e-02,  4.18751016e-02, -1.40758485e-01,\n",
      "        4.53810804e-02,  2.70168409e-02,  1.91734768e-02, -2.71215476e-02,\n",
      "       -5.06906305e-03, -4.85687964e-02, -1.65937636e-02, -6.42495453e-02,\n",
      "        1.10396393e-01, -8.00901875e-02,  1.53750519e-03, -1.18835820e-02,\n",
      "       -2.30622794e-02, -1.78513229e-02,  1.01663014e-02,  9.45939124e-02,\n",
      "       -1.07575189e-02,  9.72973835e-03, -1.31196519e-02,  2.53252368e-02,\n",
      "       -1.86854377e-02,  3.64811458e-02, -4.01636958e-03,  3.22325714e-02,\n",
      "       -5.02879918e-02,  7.85224810e-02, -1.06127383e-02, -4.95385081e-02,\n",
      "        7.61678517e-02, -2.76659653e-02,  1.07516706e-01, -4.05898765e-02,\n",
      "       -2.26283562e-03,  3.20859924e-02,  4.70422134e-02,  9.92958993e-02,\n",
      "       -1.18282519e-01,  5.96740358e-02, -3.57639827e-02, -9.79720801e-02,\n",
      "        4.50807139e-02, -8.24361369e-02, -1.21504785e-02, -9.35122091e-03,\n",
      "       -7.45616257e-02,  1.93169229e-02, -3.64288911e-02,  7.36043323e-03,\n",
      "       -5.06037921e-02,  6.37200996e-02,  9.81286466e-02,  3.65104824e-02,\n",
      "        2.81319823e-02,  2.76882891e-02, -4.49410900e-02, -4.58234698e-02,\n",
      "       -8.60922970e-03, -2.46807430e-02,  2.25737412e-03, -8.43396597e-03,\n",
      "        2.87757311e-02, -2.41388846e-02,  4.03370243e-03,  3.66627723e-02,\n",
      "       -1.42308222e-02,  1.10351900e-02,  2.02988405e-02, -3.25704254e-02,\n",
      "        5.46787828e-02, -5.99863715e-02,  3.49219739e-02,  3.16364914e-02,\n",
      "        2.95683965e-02, -8.67431704e-03, -7.16290670e-03, -2.08060853e-02,\n",
      "        3.57362442e-02, -2.34128647e-02, -2.05879435e-02, -4.47527487e-33,\n",
      "        3.17216069e-02,  3.91345657e-02, -4.61639538e-02,  6.60339072e-02,\n",
      "        2.29672324e-02, -2.95137018e-02,  3.37132215e-02, -1.14731155e-02,\n",
      "        1.06150834e-02, -5.40228235e-03, -7.11820498e-02,  1.05204418e-01,\n",
      "        5.58284707e-02,  4.01601717e-02, -5.06756864e-02, -7.36614689e-02,\n",
      "        3.24842446e-02, -3.75160426e-02, -3.84241007e-02, -8.17847922e-02,\n",
      "        4.40239832e-02,  4.82117869e-02,  7.51874223e-03,  5.03940508e-03,\n",
      "       -8.04832578e-02,  7.86864385e-02, -3.33807319e-02,  5.07455179e-03,\n",
      "        4.38459888e-02, -1.26848873e-02, -1.00685425e-01,  4.48386855e-02,\n",
      "        1.06558697e-02, -5.29875346e-02, -2.55872402e-02, -9.75898430e-02,\n",
      "        2.53018104e-02,  6.99620321e-02, -2.53352188e-02,  7.02559389e-03,\n",
      "        6.03125766e-02, -6.69515803e-02, -2.04369407e-02, -3.58722061e-02,\n",
      "       -5.84340617e-02,  4.31105541e-03,  3.89998555e-02, -1.33683225e-02,\n",
      "        5.53603023e-02, -8.66527390e-03,  2.18154211e-03,  3.83611955e-02,\n",
      "       -5.69522902e-02,  4.05986756e-02,  2.14066636e-02,  1.44697139e-02,\n",
      "        9.16643888e-02, -7.49428570e-03, -2.15195566e-02,  2.68265810e-02,\n",
      "       -4.25811373e-02,  1.08957484e-01,  2.26886254e-02,  1.85650010e-02,\n",
      "       -3.08830906e-02,  7.75019405e-04,  4.89936657e-02,  8.19094703e-02,\n",
      "       -2.39181668e-02, -3.32831591e-02, -3.29479612e-02, -3.00920866e-02,\n",
      "        9.58116259e-03, -6.60833642e-02, -2.57033091e-02, -4.19393517e-02,\n",
      "       -2.35980917e-02, -2.97133606e-02, -9.78222210e-03,  1.32852886e-02,\n",
      "       -3.09282597e-02,  1.01047978e-01, -1.07952124e-02, -3.64924148e-02,\n",
      "        1.36755958e-01, -6.59888238e-02, -4.97619696e-02, -1.49618253e-01,\n",
      "        2.64920145e-02,  1.41483381e-01, -8.62761214e-02, -4.08949964e-02,\n",
      "       -1.04680285e-01,  6.18877038e-02,  4.47407290e-02, -5.16731973e-08,\n",
      "        1.04091526e-03,  6.10640496e-02,  2.56634820e-02,  6.11103624e-02,\n",
      "        3.84936482e-02, -5.72853535e-02,  4.86874431e-02,  1.61152482e-01,\n",
      "        4.07529734e-02,  2.29345411e-02,  7.79043213e-02, -5.90695627e-03,\n",
      "       -4.41785306e-02,  1.24381008e-02, -2.88494937e-02,  3.50141414e-02,\n",
      "        3.99813987e-02, -7.28757307e-02, -5.81645295e-02, -4.29324582e-02,\n",
      "       -1.45129990e-02, -3.32245417e-02, -7.91248456e-02, -4.41744067e-02,\n",
      "        5.15883751e-02, -4.82635982e-02,  7.36355707e-02,  6.83480874e-02,\n",
      "       -9.46856977e-04, -4.73077781e-02,  2.99851950e-02, -9.11192875e-03,\n",
      "       -3.14459167e-02,  7.13883294e-03,  1.45443399e-02,  8.43056757e-03,\n",
      "        1.25950379e-02,  2.79160943e-02, -1.02692433e-02,  4.01969738e-02,\n",
      "       -7.19579235e-02,  3.64819467e-02,  9.36315861e-03, -1.30604031e-02,\n",
      "       -1.86995398e-02, -6.93674432e-03, -1.77894846e-01,  7.34509295e-03,\n",
      "        2.78264303e-02, -4.46982570e-02, -1.53401131e-02, -1.70526002e-02,\n",
      "        1.49712842e-02,  8.38879719e-02,  1.24602236e-01,  5.50147220e-02,\n",
      "       -5.15001044e-02, -1.47127183e-02, -5.25304340e-02,  9.95035619e-02,\n",
      "        6.10283688e-02, -1.13256581e-01, -2.14704163e-02, -2.19753236e-02],\n",
      "      dtype=float32)]\n"
     ]
    }
   ],
   "source": [
    "import chromadb\n",
    "from chromadb.utils.embedding_functions import SentenceTransformerEmbeddingFunction\n",
    "\n",
    "embedding_function = SentenceTransformerEmbeddingFunction()\n",
    "print(embedding_function([token_split_texts[10]]))"
   ]
  },
  {
   "cell_type": "code",
   "execution_count": 11,
   "id": "8ba6c8c5-9ce4-44d0-9223-6fdd77871f87",
   "metadata": {
    "height": 147
   },
   "outputs": [
    {
     "data": {
      "text/plain": [
       "350"
      ]
     },
     "execution_count": 11,
     "metadata": {},
     "output_type": "execute_result"
    }
   ],
   "source": [
    "chroma_client = chromadb.Client()\n",
    "chroma_collection = chroma_client.create_collection(\"microsoft_annual_report_2022\", embedding_function=embedding_function)\n",
    "\n",
    "ids = [str(i) for i in range(len(token_split_texts))]\n",
    "\n",
    "chroma_collection.add(ids=ids, documents=token_split_texts)\n",
    "chroma_collection.count()"
   ]
  },
  {
   "cell_type": "code",
   "execution_count": 12,
   "id": "bfdb54db-a442-423c-b006-c33a257cd7d7",
   "metadata": {
    "height": 149
   },
   "outputs": [
    {
     "name": "stdout",
     "output_type": "stream",
     "text": [
      "74 note 13 — unearned revenue unearned revenue by segment was as\n",
      "follows : ( in millions ) june 30, 2022 2021 productivity and business\n",
      "processes $ 24, 558 $ 22, 120 intelligent cloud 19, 371 17, 710 more\n",
      "personal computing 4, 479 4, 311 total $ 48, 408 $ 44, 141 changes in\n",
      "unearned revenue were as follows : ( in millions ) year ended june 30,\n",
      "2022 balance, beginning of period $ 44, 141 deferral of revenue 110,\n",
      "455 recognition of unearned revenue ( 106, 188 ) balance, end of period\n",
      "$ 48, 408 revenue allocated to remaining performance obligations, which\n",
      "includes unearned revenue and amounts that will be invoiced and\n",
      "recognized as revenue in future periods, was $ 193 billion as of june\n",
      "30, 2022, of which $ 189 billion is related to the commercial portion\n",
      "of revenue. we expect to recognize approximately 45 % of this revenue\n",
      "over the next 12 months and the remainder thereafter.\n",
      "\n",
      "\n",
      "that are not sold separately. • we tested the mathematical accuracy of\n",
      "management ’ s calculations of revenue and the associated timing of\n",
      "revenue recognized in the financial statements.\n",
      "\n",
      "\n",
      "intelligent cloud 32, 721 26, 126 18, 324 more personal computing 20,\n",
      "975 19, 439 15, 911 total $ 83, 383 $ 69, 916 $ 52, 959 no sales to an\n",
      "individual customer or country other than the united states accounted\n",
      "for more than 10 % of revenue for fiscal years 2022, 2021, or 2020.\n",
      "revenue, classified by the major geographic areas in which our\n",
      "customers were located, was as follows : ( in millions ) year ended\n",
      "june 30, 2022 2021 2020 united states ( a ) $ 100, 218 $ 83, 953 $ 73,\n",
      "160 other countries 98, 052 84, 135 69, 855 total $ 198, 270 $ 168, 088\n",
      "$ 143, 015 ( a ) includes billings to oems and certain multinational\n",
      "organizations because of the nature of these businesses and the\n",
      "impracticability of determining the geographic source of the revenue.\n",
      "revenue, classified by significant product and service offerings, was\n",
      "as follows : ( in millions ) year ended june 30, 2022\n",
      "\n",
      "\n",
      "82 in addition, certain costs incurred at a corporate level that are\n",
      "identifiable and that benefit our segments are allocated to them. these\n",
      "allocated costs include legal, including settlements and fines,\n",
      "information technology, human resources, finance, excise taxes, field\n",
      "selling, shared facilities services, and customer service and support.\n",
      "each allocation is measured differently based on the specific facts and\n",
      "circumstances of the costs being allocated. segment revenue and\n",
      "operating income were as follows during the periods presented : ( in\n",
      "millions ) year ended june 30, 2022 2021 2020 revenue productivity and\n",
      "business processes $ 63, 364 $ 53, 915 $ 46, 398 intelligent cloud 75,\n",
      "251 60, 080 48, 366 more personal computing 59, 655 54, 093 48, 251\n",
      "total $ 198, 270 $ 168, 088 $ 143, 015 operating income productivity\n",
      "and business processes $ 29, 687 $ 24, 351 $ 18, 724\n",
      "\n",
      "\n",
      "47 financial statements and supplementary data income statements ( in\n",
      "millions, except per share amounts ) year ended june 30, 2022 2021 2020\n",
      "revenue : product $ 72, 732 $ 71, 074 $ 68, 041 service and other 125,\n",
      "538 97, 014 74, 974 total revenue 198, 270 168, 088 143, 015 cost of\n",
      "revenue : product 19, 064 18, 219 16, 017 service and other 43, 586 34,\n",
      "013 30, 061 total cost of revenue 62, 650 52, 232 46, 078 gross margin\n",
      "135, 620 115, 856 96, 937 research and development 24, 512 20, 716 19,\n",
      "269 sales and marketing 21, 825 20, 117 19, 598 general and\n",
      "administrative 5, 900 5, 107 5, 111 operating income 83, 383 69, 916\n",
      "52, 959 other income, net 333 1, 186 77 income before income taxes 83,\n",
      "716 71, 102 53, 036 provision for income taxes 10, 978 9, 831 8, 755\n",
      "net income $ 72, 738 $ 61, 271 $ 44, 281\n",
      "\n",
      "\n"
     ]
    }
   ],
   "source": [
    "query = \"What was the total revenue?\"\n",
    "\n",
    "results = chroma_collection.query(query_texts=[query], n_results=5)\n",
    "retrieved_documents = results['documents'][0]\n",
    "\n",
    "for document in retrieved_documents:\n",
    "    print(word_wrap(document))\n",
    "    print('\\n')"
   ]
  },
  {
   "cell_type": "code",
   "execution_count": null,
   "id": "377a84aa-1d93-4e97-9b2d-d59c46355338",
   "metadata": {
    "height": 166
   },
   "outputs": [],
   "source": [
    "import os\n",
    "import openai\n",
    "from openai import OpenAI\n",
    "\n",
    "from dotenv import load_dotenv, find_dotenv\n",
    "_ = load_dotenv(find_dotenv()) # read local .env file\n",
    "openai.api_key = os.environ['OPENAI_API_KEY']\n",
    "\n",
    "openai_client = OpenAI()"
   ]
  },
  {
   "cell_type": "code",
   "execution_count": 18,
   "id": "ba0ed8ca-6640-4c09-9cb3-9de5e7cf46dc",
   "metadata": {
    "height": 334
   },
   "outputs": [],
   "source": [
    "from langchain_ollama import ChatOllama\n",
    "def rag(query, retrieved_documents, model='deepseek-r1:14b'):\n",
    "    information = \"\\n\\n\".join(retrieved_documents)\n",
    "\n",
    "    messages = [\n",
    "        {\n",
    "            \"role\": \"system\",\n",
    "            \"content\": \"You are a helpful expert financial research assistant. Your users are asking questions about information contained in an annual report.\"\n",
    "            \"You will be shown the user's question, and the relevant information from the annual report. Answer the user's question using only this information.\"\n",
    "        },\n",
    "        {\"role\": \"user\", \"content\": f\"Question: {query}. \\n Information: {information}\"}\n",
    "    ]\n",
    "    model=ChatOllama(model='deepseek-r1:14b')\n",
    "    res=model.invoke(messages)\n",
    "    # response = openai_client.chat.completions.create(\n",
    "    #     model=model,\n",
    "    #     messages=messages,\n",
    "    # )\n",
    "    # content = response.choices[0].message.content\n",
    "    return res.content"
   ]
  },
  {
   "cell_type": "code",
   "execution_count": 20,
   "id": "28bac3a2-0d29-48dc-9b48-2d9313239a25",
   "metadata": {
    "height": 64
   },
   "outputs": [
    {
     "name": "stdout",
     "output_type": "stream",
     "text": [
      "What was the total revenue?\n",
      " \n",
      "<think>\n",
      "Okay, so the user is asking about the total revenue. I remember\n",
      "from the annual report that there's a section where they break down\n",
      "revenue by product and service. Let me look through the information\n",
      "again.\n",
      "\n",
      "Hmm, in the financial statements part, it says \"total revenue\"\n",
      "for each year. For 2022, it's $198,270 million. That should be the\n",
      "figure the user is looking for. I'll make sure to present that\n",
      "clearly.\n",
      "</think>\n",
      "\n",
      "The total revenue for the year ended June 30, 2022,\n",
      "was **$198,270 million**.\n"
     ]
    }
   ],
   "source": [
    "output = rag(query=query, retrieved_documents=retrieved_documents)\n",
    "print(query,end='\\n \\n')\n",
    "print(word_wrap(output))"
   ]
  },
  {
   "cell_type": "code",
   "execution_count": null,
   "id": "db9f2758-0f5a-49e5-b1fa-517b91324575",
   "metadata": {
    "height": 30
   },
   "outputs": [],
   "source": []
  },
  {
   "cell_type": "code",
   "execution_count": null,
   "id": "aee59493-8a99-4da8-b94f-4747efcfc79d",
   "metadata": {
    "height": 30
   },
   "outputs": [],
   "source": []
  },
  {
   "cell_type": "code",
   "execution_count": null,
   "id": "f5eda9bc-ae76-4db6-9e0c-ae099d852d78",
   "metadata": {
    "height": 30
   },
   "outputs": [],
   "source": []
  },
  {
   "cell_type": "code",
   "execution_count": null,
   "id": "b1183e75-4c65-422e-bc47-48010d8b29c9",
   "metadata": {
    "height": 30
   },
   "outputs": [],
   "source": []
  },
  {
   "cell_type": "code",
   "execution_count": null,
   "id": "5fcd85cc-8898-41ed-a0aa-bd8a33fc565a",
   "metadata": {
    "height": 30
   },
   "outputs": [],
   "source": []
  },
  {
   "cell_type": "code",
   "execution_count": null,
   "id": "c65337e9-85ee-47f7-89fd-7fe77cd0e1b2",
   "metadata": {
    "height": 30
   },
   "outputs": [],
   "source": []
  },
  {
   "cell_type": "code",
   "execution_count": null,
   "id": "a7794092-4195-4cf3-9eab-11c9c05a26b9",
   "metadata": {
    "height": 30
   },
   "outputs": [],
   "source": []
  },
  {
   "cell_type": "code",
   "execution_count": null,
   "id": "f2cab7a1-1be7-45f0-83b7-543e48f83901",
   "metadata": {
    "height": 30
   },
   "outputs": [],
   "source": []
  },
  {
   "cell_type": "code",
   "execution_count": null,
   "id": "fe0343be-73c9-4aed-83b0-aba09569ac87",
   "metadata": {
    "height": 30
   },
   "outputs": [],
   "source": []
  },
  {
   "cell_type": "code",
   "execution_count": null,
   "id": "6f0f3e33-e517-4f6b-8b38-c47c1e3d40b4",
   "metadata": {
    "height": 30
   },
   "outputs": [],
   "source": []
  },
  {
   "cell_type": "code",
   "execution_count": null,
   "id": "a16fdcb1-57d0-4f04-af8f-7c7fc594d947",
   "metadata": {
    "height": 30
   },
   "outputs": [],
   "source": []
  },
  {
   "cell_type": "code",
   "execution_count": null,
   "id": "babe7893-9cbc-43c5-94ef-cbf8f5d68cf2",
   "metadata": {
    "height": 30
   },
   "outputs": [],
   "source": []
  },
  {
   "cell_type": "code",
   "execution_count": null,
   "id": "60a9524b-1085-4bdf-a161-39f11397dc1f",
   "metadata": {
    "height": 30
   },
   "outputs": [],
   "source": []
  },
  {
   "cell_type": "code",
   "execution_count": null,
   "id": "d189f088-b58e-4583-9590-afdfa624cf87",
   "metadata": {
    "height": 30
   },
   "outputs": [],
   "source": []
  },
  {
   "cell_type": "code",
   "execution_count": null,
   "id": "7b26a01a-4575-446b-b8dc-a8c5ab153172",
   "metadata": {
    "height": 30
   },
   "outputs": [],
   "source": []
  },
  {
   "cell_type": "code",
   "execution_count": null,
   "id": "0950575b-b69d-46a3-8c91-c7af89f5c204",
   "metadata": {
    "height": 30
   },
   "outputs": [],
   "source": []
  },
  {
   "cell_type": "code",
   "execution_count": null,
   "id": "3f123ad8-b2e8-4a25-8b42-a520ecaf566b",
   "metadata": {
    "height": 30
   },
   "outputs": [],
   "source": []
  },
  {
   "cell_type": "code",
   "execution_count": null,
   "id": "83c04587-d1de-419c-a213-2e3eb67dc33d",
   "metadata": {
    "height": 30
   },
   "outputs": [],
   "source": []
  },
  {
   "cell_type": "code",
   "execution_count": null,
   "id": "d3155972-824e-4ebe-a692-2227c113c5a8",
   "metadata": {
    "height": 30
   },
   "outputs": [],
   "source": []
  },
  {
   "cell_type": "code",
   "execution_count": null,
   "id": "d8144a4a-85f6-4800-87f9-36a1b6ceda1f",
   "metadata": {
    "height": 30
   },
   "outputs": [],
   "source": []
  },
  {
   "cell_type": "code",
   "execution_count": null,
   "id": "8ff0b18e-12a0-4ac0-97dd-8618b22e7dbf",
   "metadata": {
    "height": 30
   },
   "outputs": [],
   "source": []
  },
  {
   "cell_type": "code",
   "execution_count": null,
   "id": "03ca7e7c-4b47-4652-9b46-a40b3dffa5e6",
   "metadata": {
    "height": 30
   },
   "outputs": [],
   "source": []
  },
  {
   "cell_type": "code",
   "execution_count": null,
   "id": "f74e7d67-7f51-41c4-8e25-edbaa02d0bd8",
   "metadata": {
    "height": 30
   },
   "outputs": [],
   "source": []
  },
  {
   "cell_type": "code",
   "execution_count": null,
   "id": "9188e886-d406-406f-b234-f5c3353a77a2",
   "metadata": {
    "height": 30
   },
   "outputs": [],
   "source": []
  },
  {
   "cell_type": "code",
   "execution_count": null,
   "id": "3d3bb286-2694-4ed4-8466-46865e997ced",
   "metadata": {
    "height": 30
   },
   "outputs": [],
   "source": []
  },
  {
   "cell_type": "code",
   "execution_count": null,
   "id": "2876084b-4038-4b0c-8ec8-8294a86adfc1",
   "metadata": {
    "height": 30
   },
   "outputs": [],
   "source": []
  },
  {
   "cell_type": "code",
   "execution_count": null,
   "id": "3ac542e1-b094-431f-9611-cf7e36d3f0de",
   "metadata": {
    "height": 30
   },
   "outputs": [],
   "source": []
  },
  {
   "cell_type": "code",
   "execution_count": null,
   "id": "bcd6114b-c09d-4173-a623-9a08aaf63e4b",
   "metadata": {
    "height": 30
   },
   "outputs": [],
   "source": []
  },
  {
   "cell_type": "code",
   "execution_count": null,
   "id": "ad10ab65-b351-4f4b-b7d2-63474acfb9f9",
   "metadata": {
    "height": 30
   },
   "outputs": [],
   "source": []
  },
  {
   "cell_type": "code",
   "execution_count": null,
   "id": "800f3d81-cbdb-4ba4-8d49-85747fdfded8",
   "metadata": {
    "height": 30
   },
   "outputs": [],
   "source": []
  },
  {
   "cell_type": "code",
   "execution_count": null,
   "id": "37847448-c9f6-4f51-bf06-f7809964a8b2",
   "metadata": {
    "height": 30
   },
   "outputs": [],
   "source": []
  },
  {
   "cell_type": "code",
   "execution_count": null,
   "id": "2dcefc87-0964-4b94-946b-2145781ad606",
   "metadata": {
    "height": 30
   },
   "outputs": [],
   "source": []
  },
  {
   "cell_type": "code",
   "execution_count": null,
   "id": "5fc994bc-7b1e-476a-9df9-300a3e374882",
   "metadata": {
    "height": 30
   },
   "outputs": [],
   "source": []
  },
  {
   "cell_type": "code",
   "execution_count": null,
   "id": "9ef5f5d5-acb7-4b0a-93ef-e61306708e69",
   "metadata": {
    "height": 30
   },
   "outputs": [],
   "source": []
  },
  {
   "cell_type": "code",
   "execution_count": null,
   "id": "44e4b33f-d8fb-4f3a-b884-8b43a3766583",
   "metadata": {
    "height": 30
   },
   "outputs": [],
   "source": []
  },
  {
   "cell_type": "code",
   "execution_count": null,
   "id": "c2a480a2-2c29-4a01-80dd-ee41934b7901",
   "metadata": {
    "height": 30
   },
   "outputs": [],
   "source": []
  },
  {
   "cell_type": "code",
   "execution_count": null,
   "id": "8127c2bf-0d15-4b62-b46a-f7a17ad2ec92",
   "metadata": {
    "height": 30
   },
   "outputs": [],
   "source": []
  },
  {
   "cell_type": "code",
   "execution_count": null,
   "id": "18ded129-a637-4269-a116-550fe9a90570",
   "metadata": {
    "height": 30
   },
   "outputs": [],
   "source": []
  },
  {
   "cell_type": "code",
   "execution_count": null,
   "id": "c1d7ee44-7b29-483f-a3f2-cc9d8e18880e",
   "metadata": {
    "height": 30
   },
   "outputs": [],
   "source": []
  },
  {
   "cell_type": "code",
   "execution_count": null,
   "id": "8e450dd8-9719-42c6-8c3c-33cac910e0a5",
   "metadata": {
    "height": 30
   },
   "outputs": [],
   "source": []
  }
 ],
 "metadata": {
  "kernelspec": {
   "display_name": "llmenv",
   "language": "python",
   "name": "python3"
  },
  "language_info": {
   "codemirror_mode": {
    "name": "ipython",
    "version": 3
   },
   "file_extension": ".py",
   "mimetype": "text/x-python",
   "name": "python",
   "nbconvert_exporter": "python",
   "pygments_lexer": "ipython3",
   "version": "3.12.8"
  }
 },
 "nbformat": 4,
 "nbformat_minor": 5
}
