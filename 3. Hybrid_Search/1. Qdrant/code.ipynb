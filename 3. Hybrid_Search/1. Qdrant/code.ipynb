{
 "cells": [
  {
   "cell_type": "markdown",
   "metadata": {},
   "source": [
    "### Download and run\n",
    "https://qdrant.tech/documentation/quickstart/"
   ]
  },
  {
   "cell_type": "markdown",
   "metadata": {},
   "source": [
    "1. docker pull qdrant/qdrant\n",
    "\n",
    "2. docker run -p 6333:6333 -p 6334:6334  -v \"$(pwd)/qdrant_storage:/qdrant/storage:z\"   qdrant/qdrant"
   ]
  },
  {
   "cell_type": "markdown",
   "metadata": {},
   "source": [
    "### Langchain "
   ]
  },
  {
   "cell_type": "code",
   "execution_count": 8,
   "metadata": {},
   "outputs": [
    {
     "data": {
      "text/plain": [
       "True"
      ]
     },
     "execution_count": 8,
     "metadata": {},
     "output_type": "execute_result"
    }
   ],
   "source": [
    "from dotenv import load_dotenv\n",
    "load_dotenv('D:\\\\Code\\\\AI\\\\.env')"
   ]
  },
  {
   "cell_type": "code",
   "execution_count": 3,
   "metadata": {},
   "outputs": [],
   "source": [
    "from langchain_community.document_loaders import PyMuPDFLoader\n",
    "from langchain_qdrant import QdrantVectorStore,FastEmbedSparse, RetrievalMode\n",
    "from langchain_text_splitters import RecursiveCharacterTextSplitter\n",
    "from langchain_huggingface import HuggingFaceEmbeddings\n"
   ]
  },
  {
   "cell_type": "markdown",
   "metadata": {},
   "source": [
    "#### Load the pdf"
   ]
  },
  {
   "cell_type": "code",
   "execution_count": 4,
   "metadata": {},
   "outputs": [],
   "source": [
    "# Load PDF\n",
    "pdf_path = \"D:\\\\Code\\\\AI\\\\Agents\\\\RAG_Techniques\\\\short.pdf\"  # Change this to your actual PDF file\n",
    "loader = PyMuPDFLoader(pdf_path)\n",
    "\n",
    "# Extract documents\n",
    "documents = loader.load()"
   ]
  },
  {
   "cell_type": "markdown",
   "metadata": {},
   "source": [
    "#### Split the text that is loaded"
   ]
  },
  {
   "cell_type": "code",
   "execution_count": 5,
   "metadata": {},
   "outputs": [],
   "source": [
    "text_splitter = RecursiveCharacterTextSplitter(chunk_size=1000,chunk_overlap=300)\n",
    "documents = text_splitter.split_documents(documents)"
   ]
  },
  {
   "cell_type": "code",
   "execution_count": null,
   "metadata": {},
   "outputs": [],
   "source": [
    "documents"
   ]
  },
  {
   "cell_type": "markdown",
   "metadata": {},
   "source": [
    "#### Set the embeddings"
   ]
  },
  {
   "cell_type": "code",
   "execution_count": 10,
   "metadata": {},
   "outputs": [],
   "source": [
    "embeddings = HuggingFaceEmbeddings(model_name=\"sentence-transformers/paraphrase-MiniLM-L6-v2\")"
   ]
  },
  {
   "cell_type": "code",
   "execution_count": 9,
   "metadata": {},
   "outputs": [
    {
     "data": {
      "text/plain": [
       "HuggingFaceEmbeddings(model_name='sentence-transformers/paraphrase-MiniLM-L6-v2', cache_folder=None, model_kwargs={}, encode_kwargs={}, multi_process=False, show_progress=False)"
      ]
     },
     "execution_count": 9,
     "metadata": {},
     "output_type": "execute_result"
    }
   ],
   "source": [
    "embeddings"
   ]
  },
  {
   "cell_type": "markdown",
   "metadata": {},
   "source": [
    "#### Qdrant connect to the docker image"
   ]
  },
  {
   "cell_type": "code",
   "execution_count": 12,
   "metadata": {},
   "outputs": [],
   "source": [
    "qdrant_url= \"http://localhost:6333\"\n",
    "qdrant_docker = QdrantVectorStore.from_documents(documents,embedding=embeddings,collection_name=\"pdfs\")"
   ]
  },
  {
   "cell_type": "code",
   "execution_count": 13,
   "metadata": {},
   "outputs": [
    {
     "data": {
      "text/plain": [
       "[(Document(metadata={'producer': 'GPL Ghostscript 8.15', 'creator': 'PageMaker 7.0', 'creationdate': '2017-12-22T16:44:03+00:00', 'source': 'D:\\\\Code\\\\AI\\\\Agents\\\\RAG_Techniques\\\\short.pdf', 'file_path': 'D:\\\\Code\\\\AI\\\\Agents\\\\RAG_Techniques\\\\short.pdf', 'total_pages': 11, 'format': 'PDF 1.4', 'title': 'chap-01.pmd', 'author': 'NCERT', 'subject': '', 'keywords': '', 'moddate': '2024-05-21T15:14:25+05:30', 'trapped': '', 'modDate': \"D:20240521151425+05'30'\", 'creationDate': 'D:20171222164403Z', 'page': 6, '_id': '1454cfb2-d89e-4a55-8252-b78c8df2bd34', '_collection_name': 'pdfs'}, page_content='After lunch, during the inevitable stroll along the\\nRamblas, I lagged behind with Frau Frieda so that we could\\nrenew our memories with no other ears listening. She told\\nme she had sold her properties in Austria and retired to\\nOporto, in Portugal, where she lived in a house that she\\ndescribed as a fake castle on a hill, from which one could\\nsee all the way across the ocean to the Americas. Although\\nshe did not say so, her conversation made it clear that,\\ndream by dream, she had taken over the entire fortune of\\nher ineffable patrons in Vienna. That did not surprise me,\\nhowever, because I had always thought her dreams were\\nno more than a stratagem for surviving. And I told her so.\\nShe laughed her irresistible laugh. ‘You’re as impudent\\nas ever,’ she said. And said no more, because the rest of\\nthe group had stopped to wait for Neruda to finish talking\\nin Chilean slang to the parrots along the Rambla de los\\nPájaros. When we resumed our conversation, Frau Frieda\\nchanged the subject.'),\n",
       "  0.649361135),\n",
       " (Document(metadata={'producer': 'GPL Ghostscript 8.15', 'creator': 'PageMaker 7.0', 'creationdate': '2017-12-22T16:44:03+00:00', 'source': 'D:\\\\Code\\\\AI\\\\Agents\\\\RAG_Techniques\\\\short.pdf', 'file_path': 'D:\\\\Code\\\\AI\\\\Agents\\\\RAG_Techniques\\\\short.pdf', 'total_pages': 11, 'format': 'PDF 1.4', 'title': 'chap-01.pmd', 'author': 'NCERT', 'subject': '', 'keywords': '', 'moddate': '2024-05-21T15:14:25+05:30', 'trapped': '', 'modDate': \"D:20240521151425+05'30'\", 'creationDate': 'D:20171222164403Z', 'page': 1, '_id': '820f0c80-9e19-4e6f-b7f6-936576172b06', '_collection_name': 'pdfs'}, page_content='2/KALEIDOSCOPE\\nI S\\nI S\\nI S\\nI S\\nI Sell my Dreams\\nell my Dreams\\nell my Dreams\\nell my Dreams\\nell my Dreams\\nGabriel Garcia Marquez was brought up by his\\ngrandparents in Northern Columbia because his\\nparents were poor and struggling. A novelist, short-\\nstory writer and journalist, he is widely considered\\nthe greatest living Latin American master of narrative.\\nMarquez won the Nobel Prize in Literature in 1982.\\nHis two masterpieces are One Hundred Years in\\nSolitude (1967, tr. 1970) and Love in The Time of\\nCholera (1985, tr. 1988). His themes are violence,\\nsolitude and the overwhelming human need for love.\\nThis story reflects, like most of his works, a high\\npoint in Latin American magical realism; it is rich\\nand lucid, mixing reality with fantasy.\\nOne morning at nine o’clock, while we were having breakfast\\non the terrace of the Havana Riviera Hotel under a bright\\nsun, a huge wave picked up several cars that were driving\\ndown the avenue along the seawall or parked on the'),\n",
       "  0.6430612),\n",
       " (Document(metadata={'producer': 'GPL Ghostscript 8.15', 'creator': 'PageMaker 7.0', 'creationdate': '2017-12-22T16:44:03+00:00', 'source': 'D:\\\\Code\\\\AI\\\\Agents\\\\RAG_Techniques\\\\short.pdf', 'file_path': 'D:\\\\Code\\\\AI\\\\Agents\\\\RAG_Techniques\\\\short.pdf', 'total_pages': 11, 'format': 'PDF 1.4', 'title': 'chap-01.pmd', 'author': 'NCERT', 'subject': '', 'keywords': '', 'moddate': '2024-05-21T15:14:25+05:30', 'trapped': '', 'modDate': \"D:20240521151425+05'30'\", 'creationDate': 'D:20171222164403Z', 'page': 3, '_id': 'ed7f144f-146c-423a-8e2f-cef23809844d', '_collection_name': 'pdfs'}, page_content='4/KALEIDOSCOPE\\nparadise of black marketeering and international espionage.\\nI could not have imagined a more suitable spot for my\\nfugitive compatriot, who still ate in the students’ tavern\\non the corner only out of loyalty to her origins, since she\\nhad more than enough money to buy meals for all her\\ntable companions. She never told her real name, and we\\nalways knew her by the Germanic tongue twister that we\\nLatin American students in Vienna invented for her: Frau\\nFrieda. I had just been introduced to her when I committed\\nthe happy impertinence of asking how she had come to be\\nin a world so distant and different from the windy cliffs of\\nQuindio, and she answered with a devastating:\\n‘I sell my dreams.’\\nIn reality, that was her only trade. She had been the\\nthird of eleven children born to a prosperous shopkeeper\\nin old Caldas, and as soon as she learned to speak she\\ninstituted the fine custom in her family of telling dreams\\nbefore breakfast, the time when their oracular qualities'),\n",
       "  0.641000375),\n",
       " (Document(metadata={'producer': 'GPL Ghostscript 8.15', 'creator': 'PageMaker 7.0', 'creationdate': '2017-12-22T16:44:03+00:00', 'source': 'D:\\\\Code\\\\AI\\\\Agents\\\\RAG_Techniques\\\\short.pdf', 'file_path': 'D:\\\\Code\\\\AI\\\\Agents\\\\RAG_Techniques\\\\short.pdf', 'total_pages': 11, 'format': 'PDF 1.4', 'title': 'chap-01.pmd', 'author': 'NCERT', 'subject': '', 'keywords': '', 'moddate': '2024-05-21T15:14:25+05:30', 'trapped': '', 'modDate': \"D:20240521151425+05'30'\", 'creationDate': 'D:20171222164403Z', 'page': 6, '_id': 'a2213758-b30e-4867-b0f2-33c5441e207e', '_collection_name': 'pdfs'}, page_content='as ever,’ she said. And said no more, because the rest of\\nthe group had stopped to wait for Neruda to finish talking\\nin Chilean slang to the parrots along the Rambla de los\\nPájaros. When we resumed our conversation, Frau Frieda\\nchanged the subject.\\n‘By the way,’ she said, ‘you can go back to Vienna\\nnow.’\\nOnly then did I realise that thirteen years had gone by\\nsince our first meeting.\\n‘Even if your dreams are false, I’ll never go back,’ I told\\nher. ‘Just in case.’\\nAt three o’clock we left her to accompany Neruda to his\\nsacred siesta, which he took in our house after solemn\\n2024-25'),\n",
       "  0.6372005000000001)]"
      ]
     },
     "execution_count": 13,
     "metadata": {},
     "output_type": "execute_result"
    }
   ],
   "source": [
    "qdrant_docker.similarity_search_with_relevance_scores(\"what is Rambla de los Pájaros\")"
   ]
  },
  {
   "cell_type": "markdown",
   "metadata": {},
   "source": [
    "#### Hybrid Search\n"
   ]
  },
  {
   "cell_type": "code",
   "execution_count": 14,
   "metadata": {},
   "outputs": [],
   "source": [
    "from fastembed import SparseTextEmbedding, SparseEmbedding\n",
    "from typing import List"
   ]
  },
  {
   "cell_type": "code",
   "execution_count": 15,
   "metadata": {},
   "outputs": [
    {
     "data": {
      "text/plain": [
       "[{'model': 'prithivida/Splade_PP_en_v1',\n",
       "  'sources': {'hf': 'Qdrant/SPLADE_PP_en_v1', 'url': None},\n",
       "  'model_file': 'model.onnx',\n",
       "  'description': 'Independent Implementation of SPLADE++ Model for English.',\n",
       "  'license': 'apache-2.0',\n",
       "  'size_in_GB': 0.532,\n",
       "  'additional_files': [],\n",
       "  'requires_idf': None,\n",
       "  'vocab_size': 30522},\n",
       " {'model': 'prithvida/Splade_PP_en_v1',\n",
       "  'sources': {'hf': 'Qdrant/SPLADE_PP_en_v1', 'url': None},\n",
       "  'model_file': 'model.onnx',\n",
       "  'description': 'Independent Implementation of SPLADE++ Model for English.',\n",
       "  'license': 'apache-2.0',\n",
       "  'size_in_GB': 0.532,\n",
       "  'additional_files': [],\n",
       "  'requires_idf': None,\n",
       "  'vocab_size': 30522},\n",
       " {'model': 'Qdrant/bm42-all-minilm-l6-v2-attentions',\n",
       "  'sources': {'hf': 'Qdrant/all_miniLM_L6_v2_with_attentions', 'url': None},\n",
       "  'model_file': 'model.onnx',\n",
       "  'description': 'Light sparse embedding model, which assigns an importance score to each token in the text',\n",
       "  'license': 'apache-2.0',\n",
       "  'size_in_GB': 0.09,\n",
       "  'additional_files': ['stopwords.txt'],\n",
       "  'requires_idf': True,\n",
       "  'vocab_size': 30522},\n",
       " {'model': 'Qdrant/bm25',\n",
       "  'sources': {'hf': 'Qdrant/bm25', 'url': None},\n",
       "  'model_file': 'mock.file',\n",
       "  'description': 'BM25 as sparse embeddings meant to be used with Qdrant',\n",
       "  'license': 'apache-2.0',\n",
       "  'size_in_GB': 0.01,\n",
       "  'additional_files': ['arabic.txt',\n",
       "   'azerbaijani.txt',\n",
       "   'basque.txt',\n",
       "   'bengali.txt',\n",
       "   'catalan.txt',\n",
       "   'chinese.txt',\n",
       "   'danish.txt',\n",
       "   'dutch.txt',\n",
       "   'english.txt',\n",
       "   'finnish.txt',\n",
       "   'french.txt',\n",
       "   'german.txt',\n",
       "   'greek.txt',\n",
       "   'hebrew.txt',\n",
       "   'hinglish.txt',\n",
       "   'hungarian.txt',\n",
       "   'indonesian.txt',\n",
       "   'italian.txt',\n",
       "   'kazakh.txt',\n",
       "   'nepali.txt',\n",
       "   'norwegian.txt',\n",
       "   'portuguese.txt',\n",
       "   'romanian.txt',\n",
       "   'russian.txt',\n",
       "   'slovene.txt',\n",
       "   'spanish.txt',\n",
       "   'swedish.txt',\n",
       "   'tajik.txt',\n",
       "   'turkish.txt'],\n",
       "  'requires_idf': True,\n",
       "  'vocab_size': 0}]"
      ]
     },
     "execution_count": 15,
     "metadata": {},
     "output_type": "execute_result"
    }
   ],
   "source": [
    "SparseTextEmbedding.list_supported_models()"
   ]
  },
  {
   "cell_type": "code",
   "execution_count": 16,
   "metadata": {},
   "outputs": [
    {
     "name": "stderr",
     "output_type": "stream",
     "text": [
      "Fetching 6 files: 100%|██████████| 6/6 [00:26<00:00,  4.48s/it]\n"
     ]
    }
   ],
   "source": [
    "sparse_model = FastEmbedSparse(model_name='Qdrant/bm42-all-minilm-l6-v2-attentions',batch_size=8)"
   ]
  },
  {
   "cell_type": "code",
   "execution_count": 17,
   "metadata": {},
   "outputs": [],
   "source": [
    "qdrant_hybrid = QdrantVectorStore.from_documents(documents,embeddings,url=qdrant_url,\n",
    "                                                collection_name=\"pdf-hybrid\",\n",
    "                                                sparse_embedding=sparse_model,\n",
    "                                                retrieval_mode=RetrievalMode.HYBRID)"
   ]
  },
  {
   "cell_type": "code",
   "execution_count": 18,
   "metadata": {},
   "outputs": [
    {
     "data": {
      "text/plain": [
       "[(Document(metadata={'producer': 'GPL Ghostscript 8.15', 'creator': 'PageMaker 7.0', 'creationdate': '2017-12-22T16:44:03+00:00', 'source': 'D:\\\\Code\\\\AI\\\\Agents\\\\RAG_Techniques\\\\short.pdf', 'file_path': 'D:\\\\Code\\\\AI\\\\Agents\\\\RAG_Techniques\\\\short.pdf', 'total_pages': 11, 'format': 'PDF 1.4', 'title': 'chap-01.pmd', 'author': 'NCERT', 'subject': '', 'keywords': '', 'moddate': '2024-05-21T15:14:25+05:30', 'trapped': '', 'modDate': \"D:20240521151425+05'30'\", 'creationDate': 'D:20171222164403Z', 'page': 6, '_id': '4a59c44e-881d-4bb9-9baa-b19adb0d595d', '_collection_name': 'pdf-hybrid'}, page_content='After lunch, during the inevitable stroll along the\\nRamblas, I lagged behind with Frau Frieda so that we could\\nrenew our memories with no other ears listening. She told\\nme she had sold her properties in Austria and retired to\\nOporto, in Portugal, where she lived in a house that she\\ndescribed as a fake castle on a hill, from which one could\\nsee all the way across the ocean to the Americas. Although\\nshe did not say so, her conversation made it clear that,\\ndream by dream, she had taken over the entire fortune of\\nher ineffable patrons in Vienna. That did not surprise me,\\nhowever, because I had always thought her dreams were\\nno more than a stratagem for surviving. And I told her so.\\nShe laughed her irresistible laugh. ‘You’re as impudent\\nas ever,’ she said. And said no more, because the rest of\\nthe group had stopped to wait for Neruda to finish talking\\nin Chilean slang to the parrots along the Rambla de los\\nPájaros. When we resumed our conversation, Frau Frieda\\nchanged the subject.'),\n",
       "  0.9166667),\n",
       " (Document(metadata={'producer': 'GPL Ghostscript 8.15', 'creator': 'PageMaker 7.0', 'creationdate': '2017-12-22T16:44:03+00:00', 'source': 'D:\\\\Code\\\\AI\\\\Agents\\\\RAG_Techniques\\\\short.pdf', 'file_path': 'D:\\\\Code\\\\AI\\\\Agents\\\\RAG_Techniques\\\\short.pdf', 'total_pages': 11, 'format': 'PDF 1.4', 'title': 'chap-01.pmd', 'author': 'NCERT', 'subject': '', 'keywords': '', 'moddate': '2024-05-21T15:14:25+05:30', 'trapped': '', 'modDate': \"D:20240521151425+05'30'\", 'creationDate': 'D:20171222164403Z', 'page': 6, '_id': '82bf4781-c735-43a9-9b2e-97d24cb3a460', '_collection_name': 'pdf-hybrid'}, page_content='as ever,’ she said. And said no more, because the rest of\\nthe group had stopped to wait for Neruda to finish talking\\nin Chilean slang to the parrots along the Rambla de los\\nPájaros. When we resumed our conversation, Frau Frieda\\nchanged the subject.\\n‘By the way,’ she said, ‘you can go back to Vienna\\nnow.’\\nOnly then did I realise that thirteen years had gone by\\nsince our first meeting.\\n‘Even if your dreams are false, I’ll never go back,’ I told\\nher. ‘Just in case.’\\nAt three o’clock we left her to accompany Neruda to his\\nsacred siesta, which he took in our house after solemn\\n2024-25'),\n",
       "  0.85),\n",
       " (Document(metadata={'producer': 'GPL Ghostscript 8.15', 'creator': 'PageMaker 7.0', 'creationdate': '2017-12-22T16:44:03+00:00', 'source': 'D:\\\\Code\\\\AI\\\\Agents\\\\RAG_Techniques\\\\short.pdf', 'file_path': 'D:\\\\Code\\\\AI\\\\Agents\\\\RAG_Techniques\\\\short.pdf', 'total_pages': 11, 'format': 'PDF 1.4', 'title': 'chap-01.pmd', 'author': 'NCERT', 'subject': '', 'keywords': '', 'moddate': '2024-05-21T15:14:25+05:30', 'trapped': '', 'modDate': \"D:20240521151425+05'30'\", 'creationDate': 'D:20171222164403Z', 'page': 1, '_id': 'db9ae1ad-a6eb-41fa-93e1-be5a4cb123f5', '_collection_name': 'pdf-hybrid'}, page_content='2/KALEIDOSCOPE\\nI S\\nI S\\nI S\\nI S\\nI Sell my Dreams\\nell my Dreams\\nell my Dreams\\nell my Dreams\\nell my Dreams\\nGabriel Garcia Marquez was brought up by his\\ngrandparents in Northern Columbia because his\\nparents were poor and struggling. A novelist, short-\\nstory writer and journalist, he is widely considered\\nthe greatest living Latin American master of narrative.\\nMarquez won the Nobel Prize in Literature in 1982.\\nHis two masterpieces are One Hundred Years in\\nSolitude (1967, tr. 1970) and Love in The Time of\\nCholera (1985, tr. 1988). His themes are violence,\\nsolitude and the overwhelming human need for love.\\nThis story reflects, like most of his works, a high\\npoint in Latin American magical realism; it is rich\\nand lucid, mixing reality with fantasy.\\nOne morning at nine o’clock, while we were having breakfast\\non the terrace of the Havana Riviera Hotel under a bright\\nsun, a huge wave picked up several cars that were driving\\ndown the avenue along the seawall or parked on the'),\n",
       "  0.66666667),\n",
       " (Document(metadata={'producer': 'GPL Ghostscript 8.15', 'creator': 'PageMaker 7.0', 'creationdate': '2017-12-22T16:44:03+00:00', 'source': 'D:\\\\Code\\\\AI\\\\Agents\\\\RAG_Techniques\\\\short.pdf', 'file_path': 'D:\\\\Code\\\\AI\\\\Agents\\\\RAG_Techniques\\\\short.pdf', 'total_pages': 11, 'format': 'PDF 1.4', 'title': 'chap-01.pmd', 'author': 'NCERT', 'subject': '', 'keywords': '', 'moddate': '2024-05-21T15:14:25+05:30', 'trapped': '', 'modDate': \"D:20240521151425+05'30'\", 'creationDate': 'D:20171222164403Z', 'page': 3, '_id': '84fb1a39-ed96-4755-b0a7-40a206bd5875', '_collection_name': 'pdf-hybrid'}, page_content='4/KALEIDOSCOPE\\nparadise of black marketeering and international espionage.\\nI could not have imagined a more suitable spot for my\\nfugitive compatriot, who still ate in the students’ tavern\\non the corner only out of loyalty to her origins, since she\\nhad more than enough money to buy meals for all her\\ntable companions. She never told her real name, and we\\nalways knew her by the Germanic tongue twister that we\\nLatin American students in Vienna invented for her: Frau\\nFrieda. I had just been introduced to her when I committed\\nthe happy impertinence of asking how she had come to be\\nin a world so distant and different from the windy cliffs of\\nQuindio, and she answered with a devastating:\\n‘I sell my dreams.’\\nIn reality, that was her only trade. She had been the\\nthird of eleven children born to a prosperous shopkeeper\\nin old Caldas, and as soon as she learned to speak she\\ninstituted the fine custom in her family of telling dreams\\nbefore breakfast, the time when their oracular qualities'),\n",
       "  0.625)]"
      ]
     },
     "execution_count": 18,
     "metadata": {},
     "output_type": "execute_result"
    }
   ],
   "source": [
    "qdrant_hybrid.similarity_search_with_relevance_scores(\"what is Rambla de los Pájaros\")"
   ]
  },
  {
   "cell_type": "markdown",
   "metadata": {},
   "source": [
    "#### Qdrant Client"
   ]
  },
  {
   "cell_type": "markdown",
   "metadata": {},
   "source": [
    "All the above steps are handy when we are creating the vector database for the first. What if we want to connect to the existing vector database thats already existing. Then we will need to use the client to do so."
   ]
  },
  {
   "cell_type": "code",
   "execution_count": 19,
   "metadata": {},
   "outputs": [],
   "source": [
    "from qdrant_client import  QdrantClient\n",
    "\n",
    "client =QdrantClient(qdrant_url)"
   ]
  },
  {
   "cell_type": "code",
   "execution_count": 20,
   "metadata": {},
   "outputs": [],
   "source": [
    "hybrid_search= QdrantVectorStore(client=client,collection_name=\"pdf-hybrid\",\n",
    "                                 embedding=embeddings,\n",
    "                                 sparse_embedding=sparse_model,\n",
    "                                 retrieval_mode=RetrievalMode.HYBRID)"
   ]
  },
  {
   "cell_type": "code",
   "execution_count": 23,
   "metadata": {},
   "outputs": [
    {
     "data": {
      "text/plain": [
       "[(Document(metadata={'producer': 'GPL Ghostscript 8.15', 'creator': 'PageMaker 7.0', 'creationdate': '2017-12-22T16:44:03+00:00', 'source': 'D:\\\\Code\\\\AI\\\\Agents\\\\RAG_Techniques\\\\short.pdf', 'file_path': 'D:\\\\Code\\\\AI\\\\Agents\\\\RAG_Techniques\\\\short.pdf', 'total_pages': 11, 'format': 'PDF 1.4', 'title': 'chap-01.pmd', 'author': 'NCERT', 'subject': '', 'keywords': '', 'moddate': '2024-05-21T15:14:25+05:30', 'trapped': '', 'modDate': \"D:20240521151425+05'30'\", 'creationDate': 'D:20171222164403Z', 'page': 6, '_id': '82bf4781-c735-43a9-9b2e-97d24cb3a460', '_collection_name': 'pdf-hybrid'}, page_content='as ever,’ she said. And said no more, because the rest of\\nthe group had stopped to wait for Neruda to finish talking\\nin Chilean slang to the parrots along the Rambla de los\\nPájaros. When we resumed our conversation, Frau Frieda\\nchanged the subject.\\n‘By the way,’ she said, ‘you can go back to Vienna\\nnow.’\\nOnly then did I realise that thirteen years had gone by\\nsince our first meeting.\\n‘Even if your dreams are false, I’ll never go back,’ I told\\nher. ‘Just in case.’\\nAt three o’clock we left her to accompany Neruda to his\\nsacred siesta, which he took in our house after solemn\\n2024-25'),\n",
       "  0.75),\n",
       " (Document(metadata={'producer': 'GPL Ghostscript 8.15', 'creator': 'PageMaker 7.0', 'creationdate': '2017-12-22T16:44:03+00:00', 'source': 'D:\\\\Code\\\\AI\\\\Agents\\\\RAG_Techniques\\\\short.pdf', 'file_path': 'D:\\\\Code\\\\AI\\\\Agents\\\\RAG_Techniques\\\\short.pdf', 'total_pages': 11, 'format': 'PDF 1.4', 'title': 'chap-01.pmd', 'author': 'NCERT', 'subject': '', 'keywords': '', 'moddate': '2024-05-21T15:14:25+05:30', 'trapped': '', 'modDate': \"D:20240521151425+05'30'\", 'creationDate': 'D:20171222164403Z', 'page': 9, '_id': '3b935f92-f3e3-4a96-b743-188fae530a9c', '_collection_name': 'pdf-hybrid'}, page_content='10/KALEIDOSCOPE\\nLanguage Work\\nA.\\nVocabulary\\nLook up the meanings of the following phrases under ‘dream’\\nand ‘sell’ in the dictionary\\ndream\\n        sell\\ndream on\\nsell-by date\\ndream something away\\nselling-point\\n(not) dream of doing something\\nsell-out\\ndream something up\\nselling price\\nlook like a dream\\nseller’s market\\nB.\\nGrammar: Emphasis\\nRead this sentence carefully\\nOne morning at nine o’clock, while we were having\\nbreakfast on the terrace of the Havana Riviera Hotel\\nunder a bright sun, a huge wave picked up several\\ncars that were driving down the avenue along the\\nseawall or parked on the pavement, and embedded\\none of them in the side of the hotel.\\nThe position of a word, phrase or an idea within a sentence\\nusually indicates the emphasis it receives. Generally, the most\\nemphatic place in the sentence is its end; the next most\\nemphatic is its beginning; and the least emphatic, its middle.\\nIn the sentence above the most important fact is that the huge'),\n",
       "  0.75),\n",
       " (Document(metadata={'producer': 'GPL Ghostscript 8.15', 'creator': 'PageMaker 7.0', 'creationdate': '2017-12-22T16:44:03+00:00', 'source': 'D:\\\\Code\\\\AI\\\\Agents\\\\RAG_Techniques\\\\short.pdf', 'file_path': 'D:\\\\Code\\\\AI\\\\Agents\\\\RAG_Techniques\\\\short.pdf', 'total_pages': 11, 'format': 'PDF 1.4', 'title': 'chap-01.pmd', 'author': 'NCERT', 'subject': '', 'keywords': '', 'moddate': '2024-05-21T15:14:25+05:30', 'trapped': '', 'modDate': \"D:20240521151425+05'30'\", 'creationDate': 'D:20171222164403Z', 'page': 5, '_id': '3be5e6a6-0156-45cd-b536-8cef22425d8f', '_collection_name': 'pdf-hybrid'}, page_content='That day at Carvalleiras was typical. He ate three whole\\nlobsters, dissecting them with a surgeon’s skill, and at the\\nsame time devoured everyone else’s plate with his eyes\\nand tasted a little from each with a delight that made the\\ndesire to eat contagious: clams from Galicia, mussels from\\nCantabria, prawns from Alicante, sea cucumbers from the\\nCosta Brava. In the meantime, like the French, he spoke\\nof nothing but other culinary delicacies, in particular the\\nprehistoric shellfish of Chile, which he carried in his heart.\\nAll at once he stopped eating, tuned his lobster’s antennae,\\nand said to me in a very quiet voice:\\n‘There’s someone behind me who won’t stop looking at\\nme.’\\n2024-25'),\n",
       "  0.66666667),\n",
       " (Document(metadata={'producer': 'GPL Ghostscript 8.15', 'creator': 'PageMaker 7.0', 'creationdate': '2017-12-22T16:44:03+00:00', 'source': 'D:\\\\Code\\\\AI\\\\Agents\\\\RAG_Techniques\\\\short.pdf', 'file_path': 'D:\\\\Code\\\\AI\\\\Agents\\\\RAG_Techniques\\\\short.pdf', 'total_pages': 11, 'format': 'PDF 1.4', 'title': 'chap-01.pmd', 'author': 'NCERT', 'subject': '', 'keywords': '', 'moddate': '2024-05-21T15:14:25+05:30', 'trapped': '', 'modDate': \"D:20240521151425+05'30'\", 'creationDate': 'D:20171222164403Z', 'page': 1, '_id': 'db9ae1ad-a6eb-41fa-93e1-be5a4cb123f5', '_collection_name': 'pdf-hybrid'}, page_content='2/KALEIDOSCOPE\\nI S\\nI S\\nI S\\nI S\\nI Sell my Dreams\\nell my Dreams\\nell my Dreams\\nell my Dreams\\nell my Dreams\\nGabriel Garcia Marquez was brought up by his\\ngrandparents in Northern Columbia because his\\nparents were poor and struggling. A novelist, short-\\nstory writer and journalist, he is widely considered\\nthe greatest living Latin American master of narrative.\\nMarquez won the Nobel Prize in Literature in 1982.\\nHis two masterpieces are One Hundred Years in\\nSolitude (1967, tr. 1970) and Love in The Time of\\nCholera (1985, tr. 1988). His themes are violence,\\nsolitude and the overwhelming human need for love.\\nThis story reflects, like most of his works, a high\\npoint in Latin American magical realism; it is rich\\nand lucid, mixing reality with fantasy.\\nOne morning at nine o’clock, while we were having breakfast\\non the terrace of the Havana Riviera Hotel under a bright\\nsun, a huge wave picked up several cars that were driving\\ndown the avenue along the seawall or parked on the'),\n",
       "  0.625)]"
      ]
     },
     "execution_count": 23,
     "metadata": {},
     "output_type": "execute_result"
    }
   ],
   "source": [
    "qdrant_hybrid.similarity_search_with_relevance_scores(\"what is   los Pájaros\")"
   ]
  },
  {
   "cell_type": "code",
   "execution_count": null,
   "metadata": {},
   "outputs": [],
   "source": []
  }
 ],
 "metadata": {
  "kernelspec": {
   "display_name": "llmenv",
   "language": "python",
   "name": "python3"
  },
  "language_info": {
   "codemirror_mode": {
    "name": "ipython",
    "version": 3
   },
   "file_extension": ".py",
   "mimetype": "text/x-python",
   "name": "python",
   "nbconvert_exporter": "python",
   "pygments_lexer": "ipython3",
   "version": "3.12.8"
  }
 },
 "nbformat": 4,
 "nbformat_minor": 2
}
